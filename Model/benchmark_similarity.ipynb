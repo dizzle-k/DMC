{
 "metadata": {
  "language_info": {
   "codemirror_mode": {
    "name": "ipython",
    "version": 3
   },
   "file_extension": ".py",
   "mimetype": "text/x-python",
   "name": "python",
   "nbconvert_exporter": "python",
   "pygments_lexer": "ipython3",
   "version": "3.8.5"
  },
  "orig_nbformat": 2,
  "kernelspec": {
   "name": "python38564bitenv10c4a7fbeba6f4cfd86c61b7af75dc533",
   "display_name": "Python 3.8.5 64-bit ('env1': virtualenvwrapper)"
  },
  "metadata": {
   "interpreter": {
    "hash": "9ef5468a5c3446d919a3df41ce23b00652fe3710922e53e14080c28e3bcfe2d6"
   }
  }
 },
 "nbformat": 4,
 "nbformat_minor": 2,
 "cells": [
  {
   "cell_type": "code",
   "execution_count": 1,
   "metadata": {},
   "outputs": [],
   "source": [
    "import numpy as np\n",
    "import pandas as pd\n",
    "import matplotlib.pyplot as plt\n",
    "from pyjarowinkler import distance\n",
    "\n",
    "import warnings\n",
    "warnings.filterwarnings('ignore')\n",
    "import os\n",
    "\n",
    "os.chdir('data/')"
   ]
  },
  {
   "cell_type": "code",
   "execution_count": 2,
   "metadata": {},
   "outputs": [],
   "source": [
    "items_ = pd.read_csv('items.csv',delimiter='\\|',engine='python')\n",
    "items_cleansed = pd.read_csv('items_cleansed.csv',delimiter='\\|',engine='python')\n",
    "items_deduplicated_cleansed = pd.read_csv('items_deduplicated_cleansed.csv',delimiter='\\|',engine='python')\n",
    "eval_ = pd.read_csv('evaluation.csv',delimiter='\\|',engine='python')"
   ]
  },
  {
   "cell_type": "code",
   "execution_count": 3,
   "metadata": {},
   "outputs": [
    {
     "output_type": "execute_result",
     "data": {
      "text/plain": [
       "       itemID              title           author  \\\n",
       "61202   28922  A Christmas Carol  Charles Dickens   \n",
       "\n",
       "                                  publisher main topic subtopics  \n",
       "61202  1st World Library - Literary Society        YFD        []  "
      ],
      "text/html": "<div>\n<style scoped>\n    .dataframe tbody tr th:only-of-type {\n        vertical-align: middle;\n    }\n\n    .dataframe tbody tr th {\n        vertical-align: top;\n    }\n\n    .dataframe thead th {\n        text-align: right;\n    }\n</style>\n<table border=\"1\" class=\"dataframe\">\n  <thead>\n    <tr style=\"text-align: right;\">\n      <th></th>\n      <th>itemID</th>\n      <th>title</th>\n      <th>author</th>\n      <th>publisher</th>\n      <th>main topic</th>\n      <th>subtopics</th>\n    </tr>\n  </thead>\n  <tbody>\n    <tr>\n      <th>61202</th>\n      <td>28922</td>\n      <td>A Christmas Carol</td>\n      <td>Charles Dickens</td>\n      <td>1st World Library - Literary Society</td>\n      <td>YFD</td>\n      <td>[]</td>\n    </tr>\n  </tbody>\n</table>\n</div>"
     },
     "metadata": {},
     "execution_count": 3
    }
   ],
   "source": [
    "items_[items_['itemID']==np.int64(28922)]"
   ]
  },
  {
   "cell_type": "code",
   "execution_count": 4,
   "metadata": {},
   "outputs": [
    {
     "output_type": "execute_result",
     "data": {
      "text/plain": [
       "       itemID                       title          author        publisher  \\\n",
       "20856   21179  a heat wave in the hellers  deborah j ross  trowbridge ross   \n",
       "\n",
       "      main topic subtopics  \n",
       "20856         fm       NaN  "
      ],
      "text/html": "<div>\n<style scoped>\n    .dataframe tbody tr th:only-of-type {\n        vertical-align: middle;\n    }\n\n    .dataframe tbody tr th {\n        vertical-align: top;\n    }\n\n    .dataframe thead th {\n        text-align: right;\n    }\n</style>\n<table border=\"1\" class=\"dataframe\">\n  <thead>\n    <tr style=\"text-align: right;\">\n      <th></th>\n      <th>itemID</th>\n      <th>title</th>\n      <th>author</th>\n      <th>publisher</th>\n      <th>main topic</th>\n      <th>subtopics</th>\n    </tr>\n  </thead>\n  <tbody>\n    <tr>\n      <th>20856</th>\n      <td>21179</td>\n      <td>a heat wave in the hellers</td>\n      <td>deborah j ross</td>\n      <td>trowbridge ross</td>\n      <td>fm</td>\n      <td>NaN</td>\n    </tr>\n  </tbody>\n</table>\n</div>"
     },
     "metadata": {},
     "execution_count": 4
    }
   ],
   "source": [
    "items_deduplicated_cleansed[items_deduplicated_cleansed['itemID']==np.int64(21179)]"
   ]
  },
  {
   "cell_type": "code",
   "execution_count": 5,
   "metadata": {},
   "outputs": [],
   "source": [
    "def jaro_winkler_sim(string_1 : str, string_2: str) -> float:\n",
    "    return distance.get_jaro_distance(string_1, string_2, winkler=True)"
   ]
  },
  {
   "cell_type": "code",
   "execution_count": 6,
   "metadata": {},
   "outputs": [],
   "source": [
    "def get_recommendations(item_id : np.int64) -> tuple:\n",
    "    similarities_=[]\n",
    "\n",
    "    book_entry = items_.loc[items_['itemID'] == item_id].reset_index()\n",
    "    book_entry_cleansed = items_cleansed.loc[items_cleansed['itemID'] == item_id].reset_index()\n",
    "\n",
    "    author = str(book_entry_cleansed.at[0,'author']) # string\n",
    "    title = str(book_entry_cleansed.at[0,'title']) # string\n",
    "    publisher = str(book_entry_cleansed.at[0,'publisher']) # string\n",
    "    topic = str(book_entry_cleansed.at[0,'main topic']) # string\n",
    "    # iteration over items\n",
    "    for i in items_deduplicated_cleansed.index:\n",
    "        book_compare_id = items_deduplicated_cleansed.at[i, 'itemID'] # np.int64\n",
    "        ##\n",
    "        author_compare = str(items_deduplicated_cleansed.at[i, 'author']) # string\n",
    "        title_compare = str(items_deduplicated_cleansed.at[i, 'title']) # string\n",
    "        publisher_compare = str(items_deduplicated_cleansed.at[i, 'publisher']) # string\n",
    "        topic_compare = str(items_deduplicated_cleansed.at[i, 'main topic']) # string\n",
    "        ##\n",
    "        author_sim = jaro_winkler_sim(author, author_compare)\n",
    "        title_sim = jaro_winkler_sim(title, title_compare)\n",
    "        publisher_sim = jaro_winkler_sim(publisher, publisher_compare)\n",
    "        topic_sim = jaro_winkler_sim(topic, topic_compare)\n",
    "        book_sim = ((author_sim + title_sim + publisher_sim+topic_sim) / 4)\n",
    "        if book_sim == float(1):\n",
    "            continue\n",
    "        if len(similarities_) < 5:\n",
    "            similarities_.append(tuple([book_compare_id, book_sim]))\n",
    "        else:\n",
    "            book_similarities = [x[1] for x in similarities_]\n",
    "            if all(book_sim >= s[1] for s in similarities_):\n",
    "                similarities_.append(tuple([book_compare_id, book_sim]))\n",
    "            similarities_.sort(key=lambda s:s[1], reverse=True)\n",
    "            similarities_ = similarities_[:5]\n",
    "    recommendations = items_[items_['itemID'].isin([s[0] for s in similarities_])]\n",
    "    recommendations['sim'] = np.nan\n",
    "    for entry_ in [s for s in similarities_]:\n",
    "        recommendations.loc[(recommendations['itemID'] == entry_[0]), 'sim'] = entry_[1]\n",
    "    return book_entry, recommendations.sort_values(by=['sim'],ascending=False)"
   ]
  },
  {
   "cell_type": "code",
   "execution_count": 7,
   "metadata": {},
   "outputs": [],
   "source": [
    "test_eval_ = eval_.at[420,'itemID']"
   ]
  },
  {
   "cell_type": "code",
   "execution_count": 8,
   "metadata": {},
   "outputs": [
    {
     "output_type": "display_data",
     "data": {
      "text/plain": "   index  itemID          title       author      publisher main topic  \\\n0  43455   75539  Memory Hunter  Frank Morin  Whipsaw Press        FMX   \n\n  subtopics  \n0        []  ",
      "text/html": "<div>\n<style scoped>\n    .dataframe tbody tr th:only-of-type {\n        vertical-align: middle;\n    }\n\n    .dataframe tbody tr th {\n        vertical-align: top;\n    }\n\n    .dataframe thead th {\n        text-align: right;\n    }\n</style>\n<table border=\"1\" class=\"dataframe\">\n  <thead>\n    <tr style=\"text-align: right;\">\n      <th></th>\n      <th>index</th>\n      <th>itemID</th>\n      <th>title</th>\n      <th>author</th>\n      <th>publisher</th>\n      <th>main topic</th>\n      <th>subtopics</th>\n    </tr>\n  </thead>\n  <tbody>\n    <tr>\n      <th>0</th>\n      <td>43455</td>\n      <td>75539</td>\n      <td>Memory Hunter</td>\n      <td>Frank Morin</td>\n      <td>Whipsaw Press</td>\n      <td>FMX</td>\n      <td>[]</td>\n    </tr>\n  </tbody>\n</table>\n</div>"
     },
     "metadata": {}
    },
    {
     "output_type": "display_data",
     "data": {
      "text/plain": "       itemID                 title            author       publisher  \\\n40657   54476          Rune Warrior       Frank Morin   Whipsaw Press   \n40654   39518       A Stone's Throw       Frank Morin   Whipsaw Press   \n16421    2985                  Meow    Skye Mackinnon   Peryton Press   \n61401    1967   Der Ruf des Jaguars     Franz A. Koch  Edition Spuren   \n29946    1074  The Warrior of Elyon  Aaron W. Baldwin   Westbow Press   \n\n      main topic subtopics     sim  \n40657        FMH        []  0.8200  \n40654        YFH        []  0.7850  \n16421        FMX        []  0.7525  \n61401         FM        []  0.7225  \n29946         FM        []  0.6900  ",
      "text/html": "<div>\n<style scoped>\n    .dataframe tbody tr th:only-of-type {\n        vertical-align: middle;\n    }\n\n    .dataframe tbody tr th {\n        vertical-align: top;\n    }\n\n    .dataframe thead th {\n        text-align: right;\n    }\n</style>\n<table border=\"1\" class=\"dataframe\">\n  <thead>\n    <tr style=\"text-align: right;\">\n      <th></th>\n      <th>itemID</th>\n      <th>title</th>\n      <th>author</th>\n      <th>publisher</th>\n      <th>main topic</th>\n      <th>subtopics</th>\n      <th>sim</th>\n    </tr>\n  </thead>\n  <tbody>\n    <tr>\n      <th>40657</th>\n      <td>54476</td>\n      <td>Rune Warrior</td>\n      <td>Frank Morin</td>\n      <td>Whipsaw Press</td>\n      <td>FMH</td>\n      <td>[]</td>\n      <td>0.8200</td>\n    </tr>\n    <tr>\n      <th>40654</th>\n      <td>39518</td>\n      <td>A Stone's Throw</td>\n      <td>Frank Morin</td>\n      <td>Whipsaw Press</td>\n      <td>YFH</td>\n      <td>[]</td>\n      <td>0.7850</td>\n    </tr>\n    <tr>\n      <th>16421</th>\n      <td>2985</td>\n      <td>Meow</td>\n      <td>Skye Mackinnon</td>\n      <td>Peryton Press</td>\n      <td>FMX</td>\n      <td>[]</td>\n      <td>0.7525</td>\n    </tr>\n    <tr>\n      <th>61401</th>\n      <td>1967</td>\n      <td>Der Ruf des Jaguars</td>\n      <td>Franz A. Koch</td>\n      <td>Edition Spuren</td>\n      <td>FM</td>\n      <td>[]</td>\n      <td>0.7225</td>\n    </tr>\n    <tr>\n      <th>29946</th>\n      <td>1074</td>\n      <td>The Warrior of Elyon</td>\n      <td>Aaron W. Baldwin</td>\n      <td>Westbow Press</td>\n      <td>FM</td>\n      <td>[]</td>\n      <td>0.6900</td>\n    </tr>\n  </tbody>\n</table>\n</div>"
     },
     "metadata": {}
    }
   ],
   "source": [
    "recommendations_ = get_recommendations(test_eval_)\n",
    "display(recommendations_[0])\n",
    "display(recommendations_[1])"
   ]
  }
 ]
}