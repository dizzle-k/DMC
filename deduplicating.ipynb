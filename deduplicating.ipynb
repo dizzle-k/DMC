{
 "metadata": {
  "language_info": {
   "codemirror_mode": {
    "name": "ipython",
    "version": 3
   },
   "file_extension": ".py",
   "mimetype": "text/x-python",
   "name": "python",
   "nbconvert_exporter": "python",
   "pygments_lexer": "ipython3",
   "version": "3.8.5"
  },
  "orig_nbformat": 2,
  "kernelspec": {
   "name": "python3",
   "display_name": "Python 3.8.5 64-bit ('env1': virtualenvwrapper)"
  },
  "metadata": {
   "interpreter": {
    "hash": "9ef5468a5c3446d919a3df41ce23b00652fe3710922e53e14080c28e3bcfe2d6"
   }
  },
  "interpreter": {
   "hash": "9ef5468a5c3446d919a3df41ce23b00652fe3710922e53e14080c28e3bcfe2d6"
  }
 },
 "nbformat": 4,
 "nbformat_minor": 2,
 "cells": [
  {
   "cell_type": "code",
   "execution_count": 1,
   "metadata": {},
   "outputs": [],
   "source": [
    "import numpy as np\n",
    "import pandas as pd\n",
    "import matplotlib.pyplot as plt\n",
    "import os\n",
    "\n",
    "os.chdir(\"data/\")"
   ]
  },
  {
   "cell_type": "code",
   "execution_count": 2,
   "metadata": {},
   "outputs": [],
   "source": [
    "df = pd.read_csv('items.csv',delimiter='\\|',engine='python')"
   ]
  },
  {
   "cell_type": "code",
   "execution_count": 3,
   "metadata": {},
   "outputs": [
    {
     "output_type": "execute_result",
     "data": {
      "text/plain": [
       "   itemID                                      title              author  \\\n",
       "0   21310             Princess Poppy: The Big Mix Up  Janey Louise Jones   \n",
       "1   73018             Einfach zeichnen! Step by Step       Wiebke Krabbe   \n",
       "2   19194                                Red Queen 1    Victoria Aveyard   \n",
       "3   40250         Meine Kindergarten-Freunde (Pirat)                 NaN   \n",
       "4   46107  Mein großes Schablonen-Buch - Wilde Tiere   Elizabeth Golding   \n",
       "\n",
       "                            publisher main topic  \\\n",
       "0  Penguin Random House Children's UK        YFB   \n",
       "1              Schwager und Steinlein        AGZ   \n",
       "2              Orion Publishing Group        YFH   \n",
       "3                    Ars Edition GmbH         YB   \n",
       "4             Edition Michael Fischer       WFTM   \n",
       "\n",
       "                       subtopics  \n",
       "0                          [5AH]  \n",
       "1  [5AJ,AGZ,WFA,YBG,YBL,YNA,YPA]  \n",
       "2                      [5AP,FBA]  \n",
       "3           [5AC,5AD,YBG,YBL,YF]  \n",
       "4   [WD,WFTM,YBG,YBL,YBLD,YBLN1]  "
      ],
      "text/html": "<div>\n<style scoped>\n    .dataframe tbody tr th:only-of-type {\n        vertical-align: middle;\n    }\n\n    .dataframe tbody tr th {\n        vertical-align: top;\n    }\n\n    .dataframe thead th {\n        text-align: right;\n    }\n</style>\n<table border=\"1\" class=\"dataframe\">\n  <thead>\n    <tr style=\"text-align: right;\">\n      <th></th>\n      <th>itemID</th>\n      <th>title</th>\n      <th>author</th>\n      <th>publisher</th>\n      <th>main topic</th>\n      <th>subtopics</th>\n    </tr>\n  </thead>\n  <tbody>\n    <tr>\n      <th>0</th>\n      <td>21310</td>\n      <td>Princess Poppy: The Big Mix Up</td>\n      <td>Janey Louise Jones</td>\n      <td>Penguin Random House Children's UK</td>\n      <td>YFB</td>\n      <td>[5AH]</td>\n    </tr>\n    <tr>\n      <th>1</th>\n      <td>73018</td>\n      <td>Einfach zeichnen! Step by Step</td>\n      <td>Wiebke Krabbe</td>\n      <td>Schwager und Steinlein</td>\n      <td>AGZ</td>\n      <td>[5AJ,AGZ,WFA,YBG,YBL,YNA,YPA]</td>\n    </tr>\n    <tr>\n      <th>2</th>\n      <td>19194</td>\n      <td>Red Queen 1</td>\n      <td>Victoria Aveyard</td>\n      <td>Orion Publishing Group</td>\n      <td>YFH</td>\n      <td>[5AP,FBA]</td>\n    </tr>\n    <tr>\n      <th>3</th>\n      <td>40250</td>\n      <td>Meine Kindergarten-Freunde (Pirat)</td>\n      <td>NaN</td>\n      <td>Ars Edition GmbH</td>\n      <td>YB</td>\n      <td>[5AC,5AD,YBG,YBL,YF]</td>\n    </tr>\n    <tr>\n      <th>4</th>\n      <td>46107</td>\n      <td>Mein großes Schablonen-Buch - Wilde Tiere</td>\n      <td>Elizabeth Golding</td>\n      <td>Edition Michael Fischer</td>\n      <td>WFTM</td>\n      <td>[WD,WFTM,YBG,YBL,YBLD,YBLN1]</td>\n    </tr>\n  </tbody>\n</table>\n</div>"
     },
     "metadata": {},
     "execution_count": 3
    }
   ],
   "source": [
    "df.head()"
   ]
  },
  {
   "cell_type": "code",
   "execution_count": 4,
   "metadata": {},
   "outputs": [
    {
     "output_type": "stream",
     "name": "stdout",
     "text": [
      "<class 'pandas.core.frame.DataFrame'>\nRangeIndex: 78334 entries, 0 to 78333\nData columns (total 6 columns):\n #   Column      Non-Null Count  Dtype \n---  ------      --------------  ----- \n 0   itemID      78334 non-null  int64 \n 1   title       78334 non-null  object\n 2   author      75087 non-null  object\n 3   publisher   78325 non-null  object\n 4   main topic  78075 non-null  object\n 5   subtopics   78334 non-null  object\ndtypes: int64(1), object(5)\nmemory usage: 3.6+ MB\n"
     ]
    }
   ],
   "source": [
    "df.info()"
   ]
  },
  {
   "cell_type": "code",
   "execution_count": 5,
   "metadata": {},
   "outputs": [],
   "source": [
    "df = df.sort_values(by=['itemID'])"
   ]
  },
  {
   "cell_type": "code",
   "execution_count": 6,
   "metadata": {},
   "outputs": [
    {
     "output_type": "execute_result",
     "data": {
      "text/plain": [
       "       itemID                                              title  \\\n",
       "58507       0  Cuadernos de actividades para niños de 5 a 6 a...   \n",
       "4706        1          Kinderklassiker-Soundbuch - Don Quichotte   \n",
       "1784        2  Ich kann zeichnen! Pferde und Ponys - Schritt ...   \n",
       "74307       3                                The Chocolate Touch   \n",
       "77648       4                               Thinandbeautiful.com   \n",
       "41931       5                                      Herr der Welt   \n",
       "10572       6               Honor Harrington: Schmiede des Zorns   \n",
       "9046        7               Mao und das Vermächtnis von Atlantis   \n",
       "38795       8                                      Mi Buen Perro   \n",
       "37877       9                                  In grauer Vorzeit   \n",
       "\n",
       "                             author             publisher main topic  \\\n",
       "58507               Garcia Santiago  Fichas de preescolar        YBG   \n",
       "4706   Miguel de Cervantes Saavedra           Yo Yo Books        YBC   \n",
       "1784                     Fiona Watt        Usborne Verlag       YBGC   \n",
       "74307         Patrick Skene Catling         HARPERCOLLINS        YFQ   \n",
       "77648                    Liane Shaw        ORCA BOOK PUBL        YXA   \n",
       "41931                   Jules Verne  TP Verone Publishing         FB   \n",
       "10572                   David Weber                 Lübbe        FLS   \n",
       "9046                    Mario Klotz                epubli         FM   \n",
       "38795                Katrina Streza              XIST PUB       YBLJ   \n",
       "37877                 Lucian Caligo       Books on Demand         FL   \n",
       "\n",
       "       subtopics  \n",
       "58507         []  \n",
       "4706          []  \n",
       "1784       [YBL]  \n",
       "74307      [YFJ]  \n",
       "77648       [YF]  \n",
       "41931         []  \n",
       "10572  [FLP,FLQ]  \n",
       "9046          []  \n",
       "38795  [YFP,YFQ]  \n",
       "37877         []  "
      ],
      "text/html": "<div>\n<style scoped>\n    .dataframe tbody tr th:only-of-type {\n        vertical-align: middle;\n    }\n\n    .dataframe tbody tr th {\n        vertical-align: top;\n    }\n\n    .dataframe thead th {\n        text-align: right;\n    }\n</style>\n<table border=\"1\" class=\"dataframe\">\n  <thead>\n    <tr style=\"text-align: right;\">\n      <th></th>\n      <th>itemID</th>\n      <th>title</th>\n      <th>author</th>\n      <th>publisher</th>\n      <th>main topic</th>\n      <th>subtopics</th>\n    </tr>\n  </thead>\n  <tbody>\n    <tr>\n      <th>58507</th>\n      <td>0</td>\n      <td>Cuadernos de actividades para niños de 5 a 6 a...</td>\n      <td>Garcia Santiago</td>\n      <td>Fichas de preescolar</td>\n      <td>YBG</td>\n      <td>[]</td>\n    </tr>\n    <tr>\n      <th>4706</th>\n      <td>1</td>\n      <td>Kinderklassiker-Soundbuch - Don Quichotte</td>\n      <td>Miguel de Cervantes Saavedra</td>\n      <td>Yo Yo Books</td>\n      <td>YBC</td>\n      <td>[]</td>\n    </tr>\n    <tr>\n      <th>1784</th>\n      <td>2</td>\n      <td>Ich kann zeichnen! Pferde und Ponys - Schritt ...</td>\n      <td>Fiona Watt</td>\n      <td>Usborne Verlag</td>\n      <td>YBGC</td>\n      <td>[YBL]</td>\n    </tr>\n    <tr>\n      <th>74307</th>\n      <td>3</td>\n      <td>The Chocolate Touch</td>\n      <td>Patrick Skene Catling</td>\n      <td>HARPERCOLLINS</td>\n      <td>YFQ</td>\n      <td>[YFJ]</td>\n    </tr>\n    <tr>\n      <th>77648</th>\n      <td>4</td>\n      <td>Thinandbeautiful.com</td>\n      <td>Liane Shaw</td>\n      <td>ORCA BOOK PUBL</td>\n      <td>YXA</td>\n      <td>[YF]</td>\n    </tr>\n    <tr>\n      <th>41931</th>\n      <td>5</td>\n      <td>Herr der Welt</td>\n      <td>Jules Verne</td>\n      <td>TP Verone Publishing</td>\n      <td>FB</td>\n      <td>[]</td>\n    </tr>\n    <tr>\n      <th>10572</th>\n      <td>6</td>\n      <td>Honor Harrington: Schmiede des Zorns</td>\n      <td>David Weber</td>\n      <td>Lübbe</td>\n      <td>FLS</td>\n      <td>[FLP,FLQ]</td>\n    </tr>\n    <tr>\n      <th>9046</th>\n      <td>7</td>\n      <td>Mao und das Vermächtnis von Atlantis</td>\n      <td>Mario Klotz</td>\n      <td>epubli</td>\n      <td>FM</td>\n      <td>[]</td>\n    </tr>\n    <tr>\n      <th>38795</th>\n      <td>8</td>\n      <td>Mi Buen Perro</td>\n      <td>Katrina Streza</td>\n      <td>XIST PUB</td>\n      <td>YBLJ</td>\n      <td>[YFP,YFQ]</td>\n    </tr>\n    <tr>\n      <th>37877</th>\n      <td>9</td>\n      <td>In grauer Vorzeit</td>\n      <td>Lucian Caligo</td>\n      <td>Books on Demand</td>\n      <td>FL</td>\n      <td>[]</td>\n    </tr>\n  </tbody>\n</table>\n</div>"
     },
     "metadata": {},
     "execution_count": 6
    }
   ],
   "source": [
    "df.head(10)"
   ]
  },
  {
   "cell_type": "code",
   "execution_count": 7,
   "metadata": {},
   "outputs": [
    {
     "output_type": "execute_result",
     "data": {
      "text/plain": [
       "78334"
      ]
     },
     "metadata": {},
     "execution_count": 7
    }
   ],
   "source": [
    "len(df)"
   ]
  },
  {
   "cell_type": "code",
   "execution_count": 8,
   "metadata": {},
   "outputs": [],
   "source": [
    "df_duplicates = df[df.duplicated(subset=['title','author','publisher','main topic','subtopics']) == True]"
   ]
  },
  {
   "cell_type": "code",
   "execution_count": 9,
   "metadata": {},
   "outputs": [
    {
     "output_type": "execute_result",
     "data": {
      "text/plain": [
       "       itemID                                          title  \\\n",
       "41664    8185                                           1906   \n",
       "63996   66159                           2084 - Money Goodbye   \n",
       "13490   32408                                           2121   \n",
       "15060   63255                                           2121   \n",
       "71424   71135                             2412 - STUNDE NULL   \n",
       "44841   73948                                            444   \n",
       "28571   69477                                A Banished Land   \n",
       "72506   74784  A Bridge Of Shadow: Premium Hardcover Edition   \n",
       "69895   41164                               A Chance of Rain   \n",
       "69250   59150                                        A Fonte   \n",
       "\n",
       "                                                  author     publisher  \\\n",
       "41664                                 Ferdinand Grautoff     Hofenberg   \n",
       "63996                                      Artur Rümmler     tredition   \n",
       "13490                                 Nikkita Pierrottie      Lulu.com   \n",
       "15060                                 Nikkita Pierrottie      Lulu.com   \n",
       "71424  Martin Selle, Susanne Knauss, Reinhard Stengel...     tredition   \n",
       "44841  Gudrun S. Schutting-Wieser (Hg.), Andreas Unte...      myMorawa   \n",
       "28571                                         Jake Jauch  Abbott Press   \n",
       "72506                                    Natalie J. Case     BLURB INC   \n",
       "69895                                Joshua G. J. Insole     tredition   \n",
       "69250                                            Cs Luis     BLURB INC   \n",
       "\n",
       "      main topic         subtopics  \n",
       "41664         FL                []  \n",
       "63996         FB                []  \n",
       "13490         FM                []  \n",
       "15060         FM                []  \n",
       "71424         FB                []  \n",
       "44841         FM  [FK,YFC,YFD,YFH]  \n",
       "28571         FJ              [FL]  \n",
       "72506         FB              [FM]  \n",
       "69895         FB                []  \n",
       "69250         FM              [FR]  "
      ],
      "text/html": "<div>\n<style scoped>\n    .dataframe tbody tr th:only-of-type {\n        vertical-align: middle;\n    }\n\n    .dataframe tbody tr th {\n        vertical-align: top;\n    }\n\n    .dataframe thead th {\n        text-align: right;\n    }\n</style>\n<table border=\"1\" class=\"dataframe\">\n  <thead>\n    <tr style=\"text-align: right;\">\n      <th></th>\n      <th>itemID</th>\n      <th>title</th>\n      <th>author</th>\n      <th>publisher</th>\n      <th>main topic</th>\n      <th>subtopics</th>\n    </tr>\n  </thead>\n  <tbody>\n    <tr>\n      <th>41664</th>\n      <td>8185</td>\n      <td>1906</td>\n      <td>Ferdinand Grautoff</td>\n      <td>Hofenberg</td>\n      <td>FL</td>\n      <td>[]</td>\n    </tr>\n    <tr>\n      <th>63996</th>\n      <td>66159</td>\n      <td>2084 - Money Goodbye</td>\n      <td>Artur Rümmler</td>\n      <td>tredition</td>\n      <td>FB</td>\n      <td>[]</td>\n    </tr>\n    <tr>\n      <th>13490</th>\n      <td>32408</td>\n      <td>2121</td>\n      <td>Nikkita Pierrottie</td>\n      <td>Lulu.com</td>\n      <td>FM</td>\n      <td>[]</td>\n    </tr>\n    <tr>\n      <th>15060</th>\n      <td>63255</td>\n      <td>2121</td>\n      <td>Nikkita Pierrottie</td>\n      <td>Lulu.com</td>\n      <td>FM</td>\n      <td>[]</td>\n    </tr>\n    <tr>\n      <th>71424</th>\n      <td>71135</td>\n      <td>2412 - STUNDE NULL</td>\n      <td>Martin Selle, Susanne Knauss, Reinhard Stengel...</td>\n      <td>tredition</td>\n      <td>FB</td>\n      <td>[]</td>\n    </tr>\n    <tr>\n      <th>44841</th>\n      <td>73948</td>\n      <td>444</td>\n      <td>Gudrun S. Schutting-Wieser (Hg.), Andreas Unte...</td>\n      <td>myMorawa</td>\n      <td>FM</td>\n      <td>[FK,YFC,YFD,YFH]</td>\n    </tr>\n    <tr>\n      <th>28571</th>\n      <td>69477</td>\n      <td>A Banished Land</td>\n      <td>Jake Jauch</td>\n      <td>Abbott Press</td>\n      <td>FJ</td>\n      <td>[FL]</td>\n    </tr>\n    <tr>\n      <th>72506</th>\n      <td>74784</td>\n      <td>A Bridge Of Shadow: Premium Hardcover Edition</td>\n      <td>Natalie J. Case</td>\n      <td>BLURB INC</td>\n      <td>FB</td>\n      <td>[FM]</td>\n    </tr>\n    <tr>\n      <th>69895</th>\n      <td>41164</td>\n      <td>A Chance of Rain</td>\n      <td>Joshua G. J. Insole</td>\n      <td>tredition</td>\n      <td>FB</td>\n      <td>[]</td>\n    </tr>\n    <tr>\n      <th>69250</th>\n      <td>59150</td>\n      <td>A Fonte</td>\n      <td>Cs Luis</td>\n      <td>BLURB INC</td>\n      <td>FM</td>\n      <td>[FR]</td>\n    </tr>\n  </tbody>\n</table>\n</div>"
     },
     "metadata": {},
     "execution_count": 9
    }
   ],
   "source": [
    "df_duplicates.sort_values(by=['title']).head(10)"
   ]
  },
  {
   "cell_type": "code",
   "execution_count": 10,
   "metadata": {},
   "outputs": [
    {
     "output_type": "execute_result",
     "data": {
      "text/plain": [
       "1532"
      ]
     },
     "metadata": {},
     "execution_count": 10
    }
   ],
   "source": [
    "len(df_duplicates.title.unique())"
   ]
  },
  {
   "cell_type": "code",
   "execution_count": 11,
   "metadata": {},
   "outputs": [
    {
     "output_type": "execute_result",
     "data": {
      "text/plain": [
       "1845"
      ]
     },
     "metadata": {},
     "execution_count": 11
    }
   ],
   "source": [
    "len(df_duplicates)"
   ]
  },
  {
   "cell_type": "code",
   "execution_count": 12,
   "metadata": {},
   "outputs": [],
   "source": [
    "df_deduplicated = df.drop_duplicates(subset=['title','author','publisher','main topic','subtopics'])"
   ]
  },
  {
   "cell_type": "code",
   "execution_count": 13,
   "metadata": {},
   "outputs": [
    {
     "output_type": "execute_result",
     "data": {
      "text/plain": [
       "76489"
      ]
     },
     "metadata": {},
     "execution_count": 13
    }
   ],
   "source": [
    "len(df_deduplicated)"
   ]
  },
  {
   "cell_type": "code",
   "execution_count": 14,
   "metadata": {},
   "outputs": [
    {
     "output_type": "execute_result",
     "data": {
      "text/plain": [
       "       itemID                                              title  \\\n",
       "58507       0  Cuadernos de actividades para niños de 5 a 6 a...   \n",
       "4706        1          Kinderklassiker-Soundbuch - Don Quichotte   \n",
       "1784        2  Ich kann zeichnen! Pferde und Ponys - Schritt ...   \n",
       "74307       3                                The Chocolate Touch   \n",
       "77648       4                               Thinandbeautiful.com   \n",
       "41931       5                                      Herr der Welt   \n",
       "10572       6               Honor Harrington: Schmiede des Zorns   \n",
       "9046        7               Mao und das Vermächtnis von Atlantis   \n",
       "38795       8                                      Mi Buen Perro   \n",
       "37877       9                                  In grauer Vorzeit   \n",
       "\n",
       "                             author             publisher main topic  \\\n",
       "58507               Garcia Santiago  Fichas de preescolar        YBG   \n",
       "4706   Miguel de Cervantes Saavedra           Yo Yo Books        YBC   \n",
       "1784                     Fiona Watt        Usborne Verlag       YBGC   \n",
       "74307         Patrick Skene Catling         HARPERCOLLINS        YFQ   \n",
       "77648                    Liane Shaw        ORCA BOOK PUBL        YXA   \n",
       "41931                   Jules Verne  TP Verone Publishing         FB   \n",
       "10572                   David Weber                 Lübbe        FLS   \n",
       "9046                    Mario Klotz                epubli         FM   \n",
       "38795                Katrina Streza              XIST PUB       YBLJ   \n",
       "37877                 Lucian Caligo       Books on Demand         FL   \n",
       "\n",
       "       subtopics  \n",
       "58507         []  \n",
       "4706          []  \n",
       "1784       [YBL]  \n",
       "74307      [YFJ]  \n",
       "77648       [YF]  \n",
       "41931         []  \n",
       "10572  [FLP,FLQ]  \n",
       "9046          []  \n",
       "38795  [YFP,YFQ]  \n",
       "37877         []  "
      ],
      "text/html": "<div>\n<style scoped>\n    .dataframe tbody tr th:only-of-type {\n        vertical-align: middle;\n    }\n\n    .dataframe tbody tr th {\n        vertical-align: top;\n    }\n\n    .dataframe thead th {\n        text-align: right;\n    }\n</style>\n<table border=\"1\" class=\"dataframe\">\n  <thead>\n    <tr style=\"text-align: right;\">\n      <th></th>\n      <th>itemID</th>\n      <th>title</th>\n      <th>author</th>\n      <th>publisher</th>\n      <th>main topic</th>\n      <th>subtopics</th>\n    </tr>\n  </thead>\n  <tbody>\n    <tr>\n      <th>58507</th>\n      <td>0</td>\n      <td>Cuadernos de actividades para niños de 5 a 6 a...</td>\n      <td>Garcia Santiago</td>\n      <td>Fichas de preescolar</td>\n      <td>YBG</td>\n      <td>[]</td>\n    </tr>\n    <tr>\n      <th>4706</th>\n      <td>1</td>\n      <td>Kinderklassiker-Soundbuch - Don Quichotte</td>\n      <td>Miguel de Cervantes Saavedra</td>\n      <td>Yo Yo Books</td>\n      <td>YBC</td>\n      <td>[]</td>\n    </tr>\n    <tr>\n      <th>1784</th>\n      <td>2</td>\n      <td>Ich kann zeichnen! Pferde und Ponys - Schritt ...</td>\n      <td>Fiona Watt</td>\n      <td>Usborne Verlag</td>\n      <td>YBGC</td>\n      <td>[YBL]</td>\n    </tr>\n    <tr>\n      <th>74307</th>\n      <td>3</td>\n      <td>The Chocolate Touch</td>\n      <td>Patrick Skene Catling</td>\n      <td>HARPERCOLLINS</td>\n      <td>YFQ</td>\n      <td>[YFJ]</td>\n    </tr>\n    <tr>\n      <th>77648</th>\n      <td>4</td>\n      <td>Thinandbeautiful.com</td>\n      <td>Liane Shaw</td>\n      <td>ORCA BOOK PUBL</td>\n      <td>YXA</td>\n      <td>[YF]</td>\n    </tr>\n    <tr>\n      <th>41931</th>\n      <td>5</td>\n      <td>Herr der Welt</td>\n      <td>Jules Verne</td>\n      <td>TP Verone Publishing</td>\n      <td>FB</td>\n      <td>[]</td>\n    </tr>\n    <tr>\n      <th>10572</th>\n      <td>6</td>\n      <td>Honor Harrington: Schmiede des Zorns</td>\n      <td>David Weber</td>\n      <td>Lübbe</td>\n      <td>FLS</td>\n      <td>[FLP,FLQ]</td>\n    </tr>\n    <tr>\n      <th>9046</th>\n      <td>7</td>\n      <td>Mao und das Vermächtnis von Atlantis</td>\n      <td>Mario Klotz</td>\n      <td>epubli</td>\n      <td>FM</td>\n      <td>[]</td>\n    </tr>\n    <tr>\n      <th>38795</th>\n      <td>8</td>\n      <td>Mi Buen Perro</td>\n      <td>Katrina Streza</td>\n      <td>XIST PUB</td>\n      <td>YBLJ</td>\n      <td>[YFP,YFQ]</td>\n    </tr>\n    <tr>\n      <th>37877</th>\n      <td>9</td>\n      <td>In grauer Vorzeit</td>\n      <td>Lucian Caligo</td>\n      <td>Books on Demand</td>\n      <td>FL</td>\n      <td>[]</td>\n    </tr>\n  </tbody>\n</table>\n</div>"
     },
     "metadata": {},
     "execution_count": 14
    }
   ],
   "source": [
    "df_deduplicated.head(10)"
   ]
  },
  {
   "cell_type": "code",
   "execution_count": 15,
   "metadata": {},
   "outputs": [
    {
     "output_type": "stream",
     "name": "stdout",
     "text": [
      "<class 'pandas.core.frame.DataFrame'>\nInt64Index: 76489 entries, 58507 to 28552\nData columns (total 6 columns):\n #   Column      Non-Null Count  Dtype \n---  ------      --------------  ----- \n 0   itemID      76489 non-null  int64 \n 1   title       76489 non-null  object\n 2   author      73262 non-null  object\n 3   publisher   76480 non-null  object\n 4   main topic  76232 non-null  object\n 5   subtopics   76489 non-null  object\ndtypes: int64(1), object(5)\nmemory usage: 4.1+ MB\n"
     ]
    }
   ],
   "source": [
    "df_deduplicated.info()"
   ]
  },
  {
   "cell_type": "code",
   "execution_count": 16,
   "metadata": {},
   "outputs": [],
   "source": [
    "df_deduplicated.to_csv('items_deduplicated.csv',sep='|',encoding='utf-8',index=False)"
   ]
  },
  {
   "cell_type": "code",
   "execution_count": null,
   "metadata": {},
   "outputs": [],
   "source": []
  }
 ]
}