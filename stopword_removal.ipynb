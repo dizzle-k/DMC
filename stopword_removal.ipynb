{
 "metadata": {
  "language_info": {
   "codemirror_mode": {
    "name": "ipython",
    "version": 3
   },
   "file_extension": ".py",
   "mimetype": "text/x-python",
   "name": "python",
   "nbconvert_exporter": "python",
   "pygments_lexer": "ipython3",
   "version": "3.8.5"
  },
  "orig_nbformat": 2,
  "kernelspec": {
   "name": "python38564bitenv10cc2b33a7e1542bbac7562dac990d093",
   "display_name": "Python 3.8.5 64-bit ('env1': virtualenvwrapper)"
  },
  "metadata": {
   "interpreter": {
    "hash": "9ef5468a5c3446d919a3df41ce23b00652fe3710922e53e14080c28e3bcfe2d6"
   }
  }
 },
 "nbformat": 4,
 "nbformat_minor": 2,
 "cells": [
  {
   "cell_type": "code",
   "execution_count": 1,
   "metadata": {},
   "outputs": [],
   "source": [
    "import pandas as pd\n",
    "import numpy as np\n",
    "import matplotlib.pyplot as plt\n",
    "import warnings\n",
    "warnings.filterwarnings('ignore')"
   ]
  },
  {
   "cell_type": "code",
   "execution_count": 2,
   "metadata": {},
   "outputs": [],
   "source": [
    "import os\n",
    "os.chdir('data/')"
   ]
  },
  {
   "cell_type": "code",
   "execution_count": 3,
   "metadata": {},
   "outputs": [],
   "source": [
    "import nltk\n",
    "#nltk.download('stopwords')\n",
    "from nltk.corpus import stopwords"
   ]
  },
  {
   "cell_type": "code",
   "execution_count": 4,
   "metadata": {},
   "outputs": [],
   "source": [
    "items = pd.read_csv('items.csv', delimiter='\\|', engine='python')\n",
    "items_c = pd.read_csv('items_cleansed.csv', delimiter='\\|', engine='python')\n",
    "eval_ = pd.read_csv('evaluation.csv', delimiter='\\|', engine='python')"
   ]
  },
  {
   "cell_type": "code",
   "execution_count": 5,
   "metadata": {},
   "outputs": [
    {
     "output_type": "execute_result",
     "data": {
      "text/plain": [
       "    itemID                         title                 author  \\\n",
       "22      22  wily and the canine pandemic  michelle weidenbenner   \n",
       "\n",
       "                publisher main topic subtopics  \n",
       "22  random publishing llc        yfh       NaN  "
      ],
      "text/html": "<div>\n<style scoped>\n    .dataframe tbody tr th:only-of-type {\n        vertical-align: middle;\n    }\n\n    .dataframe tbody tr th {\n        vertical-align: top;\n    }\n\n    .dataframe thead th {\n        text-align: right;\n    }\n</style>\n<table border=\"1\" class=\"dataframe\">\n  <thead>\n    <tr style=\"text-align: right;\">\n      <th></th>\n      <th>itemID</th>\n      <th>title</th>\n      <th>author</th>\n      <th>publisher</th>\n      <th>main topic</th>\n      <th>subtopics</th>\n    </tr>\n  </thead>\n  <tbody>\n    <tr>\n      <th>22</th>\n      <td>22</td>\n      <td>wily and the canine pandemic</td>\n      <td>michelle weidenbenner</td>\n      <td>random publishing llc</td>\n      <td>yfh</td>\n      <td>NaN</td>\n    </tr>\n  </tbody>\n</table>\n</div>"
     },
     "metadata": {},
     "execution_count": 5
    }
   ],
   "source": [
    "items_c[items_c['itemID']==np.int64(22)]"
   ]
  },
  {
   "cell_type": "code",
   "execution_count": 6,
   "metadata": {},
   "outputs": [],
   "source": [
    "for i in items_c.index:\n",
    "    #print(str(items_c.at[i, 'title']))\n",
    "    title = str(items_c.at[i, 'title']).split()\n",
    "    for language in ['german','english','spanish','portuguese','russian','french','italian','dutch']:\n",
    "        title = [w for w in title if w not in stopwords.words(language)]\n",
    "    title = ' '.join(title)\n",
    "    #print(title,'\\n')\n",
    "    items_c.at[i, 'title'] = title"
   ]
  },
  {
   "cell_type": "code",
   "execution_count": 7,
   "metadata": {},
   "outputs": [
    {
     "output_type": "execute_result",
     "data": {
      "text/plain": [
       "    itemID                 title                 author  \\\n",
       "22      22  wily canine pandemic  michelle weidenbenner   \n",
       "\n",
       "                publisher main topic subtopics  \n",
       "22  random publishing llc        yfh       NaN  "
      ],
      "text/html": "<div>\n<style scoped>\n    .dataframe tbody tr th:only-of-type {\n        vertical-align: middle;\n    }\n\n    .dataframe tbody tr th {\n        vertical-align: top;\n    }\n\n    .dataframe thead th {\n        text-align: right;\n    }\n</style>\n<table border=\"1\" class=\"dataframe\">\n  <thead>\n    <tr style=\"text-align: right;\">\n      <th></th>\n      <th>itemID</th>\n      <th>title</th>\n      <th>author</th>\n      <th>publisher</th>\n      <th>main topic</th>\n      <th>subtopics</th>\n    </tr>\n  </thead>\n  <tbody>\n    <tr>\n      <th>22</th>\n      <td>22</td>\n      <td>wily canine pandemic</td>\n      <td>michelle weidenbenner</td>\n      <td>random publishing llc</td>\n      <td>yfh</td>\n      <td>NaN</td>\n    </tr>\n  </tbody>\n</table>\n</div>"
     },
     "metadata": {},
     "execution_count": 7
    }
   ],
   "source": [
    "items_c[items_c['itemID']==np.int64(22)]"
   ]
  },
  {
   "cell_type": "code",
   "execution_count": 8,
   "metadata": {},
   "outputs": [],
   "source": [
    "items_c.to_csv('items_stopc.csv',sep='|',encoding='utf-8',index=False)"
   ]
  },
  {
   "cell_type": "code",
   "execution_count": null,
   "metadata": {},
   "outputs": [],
   "source": []
  }
 ]
}