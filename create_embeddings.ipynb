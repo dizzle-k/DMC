{
 "cells": [
  {
   "cell_type": "code",
   "execution_count": null,
   "metadata": {},
   "outputs": [],
   "source": [
    "%load_ext blackcellmagic"
   ]
  },
  {
   "cell_type": "code",
   "execution_count": 1,
   "metadata": {},
   "outputs": [],
   "source": [
    "import os\n",
    "import json\n",
    "\n",
    "os.chdir(\"data/\")\n",
    "import sys\n",
    "\n",
    "import numpy as np\n",
    "import pandas as pd\n",
    "import matplotlib.pyplot as plt\n",
    "\n",
    "from datetime import datetime"
   ]
  },
  {
   "cell_type": "code",
   "execution_count": 2,
   "metadata": {},
   "outputs": [],
   "source": [
    "special_chars = [\n",
    "    \"\\n\",\n",
    "    \"\\r\",\n",
    "    \"!\",\n",
    "    '\"',\n",
    "    \"#\",\n",
    "    \"$\",\n",
    "    \"%\",\n",
    "    \"&\",\n",
    "    \"'\",\n",
    "    \"(\",\n",
    "    \")\",\n",
    "    \"*\",\n",
    "    \"+\",\n",
    "    \",\",\n",
    "    \"-\",\n",
    "    \".\",\n",
    "    \"/\",\n",
    "    \":\",\n",
    "    \";\",\n",
    "    \"=\",\n",
    "    \">\",\n",
    "    \"?\",\n",
    "    \"@\",\n",
    "    \"[\",\n",
    "    \"]\",\n",
    "    \"_\",\n",
    "    \"`\",\n",
    "    \"|\",\n",
    "    \"~\",\n",
    "    \"\\x81\",\n",
    "    \"\\x8e\",\n",
    "    \"\\x92\",\n",
    "    \"\\xa0\",\n",
    "    \"¡\",\n",
    "    \"©\",\n",
    "    \"«\",\n",
    "    \"¬\",\n",
    "    \"®\",\n",
    "    \"°\",\n",
    "    \"¶\",\n",
    "    \"»\",\n",
    "    \"÷\",\n",
    "]\n",
    "\n",
    "replace_chars = {\n",
    "    \"¹\": \"1\",\n",
    "    \"²\": \"2\",\n",
    "    \"³\": \"3\",\n",
    "    \"à\": \"a\",\n",
    "    \"á\": \"a\",\n",
    "    \"â\": \"a\",\n",
    "    \"ã\": \"a\",\n",
    "    \"å\": \"a\",\n",
    "    \"æ\": \"a\",\n",
    "    \"ç\": \"c\",\n",
    "    \"è\": \"e\",\n",
    "    \"é\": \"e\",\n",
    "    \"ê\": \"e\",\n",
    "    \"ë\": \"e\",\n",
    "    \"ì\": \"i\",\n",
    "    \"í\": \"i\",\n",
    "    \"î\": \"i\",\n",
    "    \"ï\": \"i\",\n",
    "    \"ñ\": \"n\",\n",
    "    \"ò\": \"o\",\n",
    "    \"ó\": \"o\",\n",
    "    \"ô\": \"o\",\n",
    "    \"õ\": \"o\",\n",
    "    \"ø\": \"o\",\n",
    "    \"ù\": \"u\",\n",
    "    \"ú\": \"u\",\n",
    "    \"û\": \"u\",\n",
    "    \"ý\": \"y\",\n",
    "    \"ÿ\": \"y\",\n",
    "}"
   ]
  },
  {
   "cell_type": "code",
   "execution_count": 3,
   "metadata": {},
   "outputs": [],
   "source": [
    "def cleanse_string(string_: str):\n",
    "    substrings = string_.split()\n",
    "    substrings[:] = [s.lower() for s in substrings]\n",
    "    for sc in special_chars:\n",
    "        substrings[:] = [s.replace(sc, \"\") for s in substrings]\n",
    "    for key, val in replace_chars.items():\n",
    "        substrings[:] = [s.replace(key, val) for s in substrings]\n",
    "    substrings = list(filter(None, substrings))\n",
    "    return \" \".join(substrings)"
   ]
  },
  {
   "cell_type": "code",
   "execution_count": 4,
   "metadata": {},
   "outputs": [
    {
     "output_type": "stream",
     "name": "stdout",
     "text": [
      "Children’s / Teenage fiction: Fantasy\nchildren’s teenage fiction fantasy\n"
     ]
    }
   ],
   "source": [
    "test_string = \"Children’s / Teenage fiction: Fantasy\"\n",
    "print(test_string)\n",
    "print(cleanse_string(test_string))"
   ]
  },
  {
   "cell_type": "code",
   "execution_count": 3,
   "metadata": {},
   "outputs": [],
   "source": [
    "items = pd.read_csv(\"items.csv\", delimiter=\"\\|\", engine=\"python\")\n",
    "items_c = pd.read_csv(\"items_stopc.csv\", delimiter=\"\\|\", engine=\"python\")\n",
    "items_dedup_c = pd.read_csv(\"items_dedup_stopc.csv\", delimiter=\"\\|\", engine=\"python\")\n",
    "eval_ = pd.read_csv(\"evaluation.csv\", delimiter=\"\\|\", engine=\"python\")"
   ]
  },
  {
   "cell_type": "code",
   "execution_count": 4,
   "metadata": {},
   "outputs": [],
   "source": [
    "with open(\"publisher_dict.json\") as f:\n",
    "    data = f.read()\n",
    "publisher_dict = json.loads(data)"
   ]
  },
  {
   "cell_type": "code",
   "execution_count": 5,
   "metadata": {},
   "outputs": [
    {
     "output_type": "execute_result",
     "data": {
      "text/plain": [
       "'Children’s / Teenage fiction: Fantasy'"
      ]
     },
     "metadata": {},
     "execution_count": 5
    }
   ],
   "source": [
    "publisher_dict[\"YFH\"]"
   ]
  },
  {
   "cell_type": "code",
   "execution_count": 8,
   "metadata": {},
   "outputs": [],
   "source": [
    "publisher_dict_2 = None"
   ]
  },
  {
   "cell_type": "code",
   "execution_count": 9,
   "metadata": {},
   "outputs": [],
   "source": [
    "publisher_dict_2 = dict()\n",
    "for k, v in publisher_dict.items():\n",
    "    topic = cleanse_string(str(k))\n",
    "    publisher_dict_2[topic] = cleanse_string(str(v))"
   ]
  },
  {
   "cell_type": "code",
   "execution_count": 10,
   "metadata": {},
   "outputs": [
    {
     "output_type": "execute_result",
     "data": {
      "text/plain": [
       "'children’s teenage fiction fantasy'"
      ]
     },
     "metadata": {},
     "execution_count": 10
    }
   ],
   "source": [
    "publisher_dict_2[\"yfh\"]"
   ]
  },
  {
   "cell_type": "code",
   "execution_count": 14,
   "metadata": {},
   "outputs": [],
   "source": [
    "books = []\n",
    "\n",
    "for i in items_c.index:\n",
    "    title = str(items_c.at[i, \"title\"])\n",
    "    author = str(items_c.at[i, \"author\"])\n",
    "    publisher = str(items_c.at[i, \"publisher\"])\n",
    "    topic = str(items_c.at[i, \"main topic\"])\n",
    "    #if str(items_c.at[i, \"main topic\"]) != \"nan\":\n",
    "    #    topic = publisher_dict_2[str(items_c.at[i, \"main topic\"])]\n",
    "    #else:\n",
    "    #    topic = \"\"\n",
    "    book_str = \" \".join([title, author, publisher, topic])\n",
    "    books.append(book_str)"
   ]
  },
  {
   "cell_type": "code",
   "execution_count": 16,
   "metadata": {},
   "outputs": [
    {
     "output_type": "execute_result",
     "data": {
      "text/plain": [
       "'frost maiden michelle m pillow the raven books llc fl'"
      ]
     },
     "metadata": {},
     "execution_count": 16
    }
   ],
   "source": [
    "books[333]"
   ]
  },
  {
   "cell_type": "code",
   "execution_count": 20,
   "metadata": {},
   "outputs": [
    {
     "output_type": "execute_result",
     "data": {
      "text/plain": [
       "78334"
      ]
     },
     "metadata": {},
     "execution_count": 20
    }
   ],
   "source": [
    "len(books)"
   ]
  },
  {
   "cell_type": "code",
   "execution_count": 49,
   "metadata": {},
   "outputs": [
    {
     "output_type": "stream",
     "name": "stdout",
     "text": [
      "yft\n"
     ]
    },
    {
     "output_type": "execute_result",
     "data": {
      "text/plain": [
       "78334"
      ]
     },
     "metadata": {},
     "execution_count": 49
    }
   ],
   "source": [
    "topics = items_c[\"main topic\"].values.tolist()\n",
    "topics = [str(t) for t in topics]\n",
    "#topics = [publisher_dict_2[str(a)] if str(a) != \"nan\" else \"\" for a in topics]\n",
    "print(topics[4444])\n",
    "len(topics)"
   ]
  },
  {
   "cell_type": "code",
   "execution_count": null,
   "metadata": {},
   "outputs": [],
   "source": [
    "from collections import Counter\n",
    "\n",
    "Counter(topics).most_common(5)"
   ]
  },
  {
   "cell_type": "code",
   "execution_count": null,
   "metadata": {},
   "outputs": [],
   "source": [
    "titles = items_c[\"title\"].values.tolist()\n",
    "titles = [str(t) for t in titles]\n",
    "print(titles[1111])\n",
    "len(titles)"
   ]
  },
  {
   "cell_type": "code",
   "execution_count": null,
   "metadata": {},
   "outputs": [],
   "source": [
    "authors = items_c[\"author\"].values.tolist()\n",
    "authors = [str(x) for x in authors]\n",
    "print(authors[1111])\n",
    "len(authors)"
   ]
  },
  {
   "cell_type": "code",
   "execution_count": null,
   "metadata": {},
   "outputs": [],
   "source": [
    "publishers = items_c[\"publisher\"].values.tolist()\n",
    "publishers = [str(y) for y in publishers]\n",
    "print(publishers[1111])\n",
    "len(publishers)"
   ]
  },
  {
   "cell_type": "code",
   "execution_count": 50,
   "metadata": {},
   "outputs": [],
   "source": [
    "from sentence_transformers import SentenceTransformer\n",
    "\n",
    "#model = SentenceTransformer(\"bert-base-nli-mean-tokens\")\n",
    "model = SentenceTransformer(\"distiluse-base-multilingual-cased\")"
   ]
  },
  {
   "cell_type": "code",
   "execution_count": 51,
   "metadata": {},
   "outputs": [
    {
     "output_type": "stream",
     "name": "stderr",
     "text": [
      "Batches: 100%|██████████| 2448/2448 [03:46<00:00, 10.81it/s]\n"
     ]
    }
   ],
   "source": [
    "sentence_embeddings = model.encode(topics, show_progress_bar=True)"
   ]
  },
  {
   "cell_type": "code",
   "execution_count": 52,
   "metadata": {},
   "outputs": [],
   "source": [
    "np.savez_compressed(\n",
    "    \"embeddings/topic_embeddings_old_multilingual.npz\", sentence_embeddings\n",
    ")"
   ]
  },
  {
   "cell_type": "code",
   "execution_count": null,
   "metadata": {},
   "outputs": [],
   "source": []
  }
 ],
 "metadata": {
  "kernelspec": {
   "name": "python3",
   "display_name": "Python 3.8.5 64-bit ('env1': virtualenvwrapper)"
  },
  "language_info": {
   "codemirror_mode": {
    "name": "ipython",
    "version": 3
   },
   "file_extension": ".py",
   "mimetype": "text/x-python",
   "name": "python",
   "nbconvert_exporter": "python",
   "pygments_lexer": "ipython3",
   "version": "3.8.5"
  },
  "metadata": {
   "interpreter": {
    "hash": "9ef5468a5c3446d919a3df41ce23b00652fe3710922e53e14080c28e3bcfe2d6"
   }
  },
  "interpreter": {
   "hash": "9ef5468a5c3446d919a3df41ce23b00652fe3710922e53e14080c28e3bcfe2d6"
  }
 },
 "nbformat": 4,
 "nbformat_minor": 2
}