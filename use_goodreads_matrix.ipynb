{
 "cells": [
  {
   "cell_type": "code",
   "execution_count": 1,
   "id": "removable-kenya",
   "metadata": {},
   "outputs": [],
   "source": [
    "# This notebook shows how to make use of the goodreads co-occurence rating matrix\n",
    "# Please, download the files 'user_book_matrix.npy' and 'user_information.p' from the drive \n",
    "# and place them in a folder named \"goodreads\".\n",
    "\n",
    "# Disclaimer: goodreads books were matched with dmc books via fuzzy string match of title and author, \n",
    "# some ill-matched cases are possible"
   ]
  },
  {
   "cell_type": "code",
   "execution_count": 88,
   "id": "described-finger",
   "metadata": {},
   "outputs": [],
   "source": [
    "import pickle\n",
    "import numpy as np\n",
    "from scipy.sparse import csr_matrix, load_npz\n",
    "import csv\n",
    "from sklearn.metrics.pairwise import cosine_similarity\n",
    "from scipy.spatial.distance import cosine"
   ]
  },
  {
   "cell_type": "markdown",
   "id": "chief-armenia",
   "metadata": {},
   "source": [
    "#### Load DMC Data"
   ]
  },
  {
   "cell_type": "code",
   "execution_count": 65,
   "id": "hungarian-washer",
   "metadata": {},
   "outputs": [
    {
     "data": {
      "text/plain": [
       "(21310, 'Princess Poppy: The Big Mix Up')"
      ]
     },
     "execution_count": 65,
     "metadata": {},
     "output_type": "execute_result"
    }
   ],
   "source": [
    "dmc_task_books = dict()\n",
    "with open(\"DMC-2021-Task/items.csv\") as i:\n",
    "    csvreader = csv.reader(i,delimiter=\"|\")\n",
    "    next(csvreader) # header\n",
    "    for line in csvreader:\n",
    "        itemID, title = line[:2]\n",
    "        dmc_task_books[int(itemID)] = title\n",
    "\n",
    "list(dmc_task_books.items())[0]"
   ]
  },
  {
   "cell_type": "markdown",
   "id": "norwegian-aircraft",
   "metadata": {},
   "source": [
    "#### Load User Information\n",
    "-> Dictionary of userID and value-list with \"avg rating\" and \"no. of rated book\" per user"
   ]
  },
  {
   "cell_type": "code",
   "execution_count": 4,
   "id": "minute-mixer",
   "metadata": {},
   "outputs": [
    {
     "data": {
      "text/plain": [
       "(4.335329341317365, 167)"
      ]
     },
     "execution_count": 4,
     "metadata": {},
     "output_type": "execute_result"
    }
   ],
   "source": [
    "with open(\"goodreads/user_information.p\", \"rb\") as u:\n",
    "    user_information = pickle.load(u)\n",
    "\n",
    "user_information[0]"
   ]
  },
  {
   "cell_type": "markdown",
   "id": "straight-lesson",
   "metadata": {},
   "source": [
    "#### Load DMC Books that are on Goodreads"
   ]
  },
  {
   "cell_type": "code",
   "execution_count": 70,
   "id": "middle-syria",
   "metadata": {},
   "outputs": [
    {
     "data": {
      "text/plain": [
       "[71270, 39784, 64739, 4766, 79008, 7514, 50034, 71111, 50208, 63005]"
      ]
     },
     "execution_count": 70,
     "metadata": {},
     "output_type": "execute_result"
    }
   ],
   "source": [
    "dmc_to_gr_string = pickle.load(open(\"goodreads/dmc_to_goodreads.p\", \"rb\"))\n",
    "dmc_to_gr = {int(k): int(v) for k,v in dmc_to_gr_string.items()}\n",
    "list(dmc_to_gr.keys())[:10]"
   ]
  },
  {
   "cell_type": "markdown",
   "id": "cultural-compact",
   "metadata": {},
   "source": [
    "#### Load Book-User-Matrix"
   ]
  },
  {
   "cell_type": "code",
   "execution_count": 55,
   "id": "careful-stadium",
   "metadata": {},
   "outputs": [
    {
     "name": "stdout",
     "output_type": "stream",
     "text": [
      "(79058, 304959)\n",
      "<class 'scipy.sparse.csr.csr_matrix'>\n"
     ]
    }
   ],
   "source": [
    "user_book_matrix = np.load(\"goodreads/user_book_matrix.npy\", allow_pickle=True)\n",
    "#user_book_matrix = load_npz(\"goodreads/user_book_matrix.npy\")\n",
    "\n",
    "user_book_matrix = user_book_matrix.item()\n",
    "print(user_book_matrix.shape)\n",
    "print(type(user_book_matrix[0,:]))"
   ]
  },
  {
   "cell_type": "code",
   "execution_count": 75,
   "id": "quarterly-rapid",
   "metadata": {},
   "outputs": [],
   "source": [
    "# retrieve relevant book columns\n",
    "book_columns = dict()\n",
    "coo_matrix = user_book_matrix.tocoo()\n",
    "ratings_non_zero = set(zip(coo_matrix.row, coo_matrix.col))\n",
    "for book,user in ratings_non_zero:\n",
    "    if int(book) in dmc_task_books.keys():\n",
    "        book_columns[int(book)] = user_book_matrix[book,:]"
   ]
  },
  {
   "cell_type": "code",
   "execution_count": 101,
   "id": "fuzzy-camping",
   "metadata": {},
   "outputs": [
    {
     "name": "stdout",
     "output_type": "stream",
     "text": [
      "  (0, 202)\t3\n",
      "  (0, 740)\t3\n",
      "  (0, 6072)\t4\n",
      "  (0, 6934)\t4\n",
      "  (0, 8338)\t4\n",
      "  (0, 12898)\t3\n",
      "  (0, 14907)\t4\n",
      "  (0, 15571)\t4\n",
      "  (0, 15851)\t3\n",
      "  (0, 16887)\t3\n",
      "  (0, 17051)\t3\n",
      "  (0, 20808)\t4\n",
      "  (0, 21799)\t5\n",
      "  (0, 22188)\t3\n",
      "  (0, 22555)\t5\n",
      "  (0, 23150)\t5\n",
      "  (0, 25152)\t4\n",
      "  (0, 26634)\t5\n",
      "  (0, 27000)\t4\n",
      "  (0, 28159)\t2\n",
      "  (0, 29866)\t3\n",
      "  (0, 30203)\t3\n",
      "  (0, 30940)\t4\n",
      "  (0, 34845)\t5\n",
      "  (0, 36547)\t4\n",
      "  :\t:\n",
      "  (0, 272276)\t1\n",
      "  (0, 272500)\t3\n",
      "  (0, 272665)\t5\n",
      "  (0, 273315)\t4\n",
      "  (0, 273410)\t3\n",
      "  (0, 273695)\t4\n",
      "  (0, 273864)\t3\n",
      "  (0, 275605)\t4\n",
      "  (0, 276949)\t3\n",
      "  (0, 277558)\t5\n",
      "  (0, 277638)\t3\n",
      "  (0, 278631)\t5\n",
      "  (0, 279222)\t4\n",
      "  (0, 279389)\t4\n",
      "  (0, 280068)\t4\n",
      "  (0, 280604)\t5\n",
      "  (0, 284607)\t3\n",
      "  (0, 287991)\t4\n",
      "  (0, 288795)\t3\n",
      "  (0, 289350)\t4\n",
      "  (0, 289810)\t4\n",
      "  (0, 290390)\t4\n",
      "  (0, 290925)\t3\n",
      "  (0, 291061)\t3\n",
      "  (0, 292009)\t4\n",
      "[[0 0 0 ... 0 0 0]]\n"
     ]
    }
   ],
   "source": [
    "# 13834\n",
    "# The Last Dragon\n",
    "# 54197\n",
    "# Fire & Ice\n",
    "\n",
    "last_dragon = book_columns[13834]\n",
    "fire_and_ice = book_columns[54197].toarray()\n",
    "\n",
    "print(last_dragon)\n",
    "print(fire_and_ice)\n"
   ]
  }
 ],
 "metadata": {
  "kernelspec": {
   "display_name": "Python 3",
   "language": "python",
   "name": "python3"
  },
  "language_info": {
   "codemirror_mode": {
    "name": "ipython",
    "version": 3
   },
   "file_extension": ".py",
   "mimetype": "text/x-python",
   "name": "python",
   "nbconvert_exporter": "python",
   "pygments_lexer": "ipython3",
   "version": "3.8.8"
  }
 },
 "nbformat": 4,
 "nbformat_minor": 5
}
