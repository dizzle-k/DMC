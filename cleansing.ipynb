{
 "metadata": {
  "language_info": {
   "codemirror_mode": {
    "name": "ipython",
    "version": 3
   },
   "file_extension": ".py",
   "mimetype": "text/x-python",
   "name": "python",
   "nbconvert_exporter": "python",
   "pygments_lexer": "ipython3",
   "version": "3.8.5"
  },
  "orig_nbformat": 2,
  "kernelspec": {
   "name": "python3",
   "display_name": "Python 3.8.5 64-bit ('env1': virtualenvwrapper)"
  },
  "metadata": {
   "interpreter": {
    "hash": "9ef5468a5c3446d919a3df41ce23b00652fe3710922e53e14080c28e3bcfe2d6"
   }
  },
  "interpreter": {
   "hash": "9ef5468a5c3446d919a3df41ce23b00652fe3710922e53e14080c28e3bcfe2d6"
  }
 },
 "nbformat": 4,
 "nbformat_minor": 2,
 "cells": [
  {
   "cell_type": "code",
   "execution_count": 1,
   "metadata": {},
   "outputs": [],
   "source": [
    "import numpy as np\n",
    "import pandas as pd\n",
    "import matplotlib.pyplot as plt\n",
    "import os\n",
    "\n",
    "os.chdir(\"data/\")"
   ]
  },
  {
   "cell_type": "code",
   "execution_count": 2,
   "metadata": {},
   "outputs": [],
   "source": [
    "# ' ', '0', '1', '2', '3', '4', '5', '6', '7', '8', '9', 'a', 'b', 'c', 'd', 'e', 'f', 'g', 'h', 'i', 'j', 'k', 'l', 'm', 'n', 'o', 'p', 'q', 'r', 's', 't', 'u', 'v', 'w', 'x', 'y', 'z', '²', '³', '¹', 'ß', 'à', 'á', 'â', 'ã', 'ä', 'å', 'æ', 'ç', 'è', 'é', 'ê', 'ë', 'ì', 'í', 'î', 'ï', 'ð', 'ñ', 'ò', 'ó', 'ô', 'õ', 'ö', 'ø', 'ù', 'ú', 'û', 'ü', 'ý', 'ÿ'"
   ]
  },
  {
   "cell_type": "code",
   "execution_count": 3,
   "metadata": {},
   "outputs": [],
   "source": [
    "special_chars = ['\\n', '\\r', '!', '\"', '#', '$', '%', '&', \"'\", '(', ')', '*', '+', ',', '-', '.', '/', ':', ';', '=', '>', '?', '@', '[', ']', '_', '`', '|', '~', '\\x81', '\\x8e', '\\x92', '\\xa0', '¡', '©', '«', '¬', '®', '°', '¶', '»', '÷']\n",
    "\n",
    "replace_chars = {\n",
    "    '¹':'1',\n",
    "    '²':'2',\n",
    "    '³':'3',\n",
    "    'à':'a',\n",
    "    'á':'a',\n",
    "    'â':'a',\n",
    "    'ã':'a',\n",
    "    'å':'a',\n",
    "    'æ':'a',\n",
    "    'ç':'c',\n",
    "    'è':'e',\n",
    "    'é':'e',\n",
    "    'ê':'e',\n",
    "    'ë':'e',\n",
    "    'ì':'i',\n",
    "    'í':'i',\n",
    "    'î':'i',\n",
    "    'ï':'i',\n",
    "    'ñ':'n',\n",
    "    'ò':'o',\n",
    "    'ó':'o',\n",
    "    'ô':'o',\n",
    "    'õ':'o',\n",
    "    'ø':'o',\n",
    "    'ù':'u',\n",
    "    'ú':'u',\n",
    "    'û':'u',\n",
    "    'ý':'y',\n",
    "    'ÿ':'y',\n",
    "}"
   ]
  },
  {
   "cell_type": "code",
   "execution_count": 2,
   "metadata": {},
   "outputs": [],
   "source": [
    "items_deduplicated = pd.read_csv('items_deduplicated.csv',delimiter='\\|',engine='python')"
   ]
  },
  {
   "cell_type": "code",
   "execution_count": 3,
   "metadata": {},
   "outputs": [],
   "source": [
    "items_ = pd.read_csv('items.csv',delimiter='\\|',engine='python')"
   ]
  },
  {
   "cell_type": "code",
   "execution_count": 4,
   "metadata": {},
   "outputs": [],
   "source": [
    "eval_ = pd.read_csv('evaluation.csv',engine='python')"
   ]
  },
  {
   "cell_type": "code",
   "execution_count": 7,
   "metadata": {},
   "outputs": [
    {
     "output_type": "stream",
     "name": "stdout",
     "text": [
      "<class 'pandas.core.frame.DataFrame'>\nRangeIndex: 78334 entries, 0 to 78333\nData columns (total 6 columns):\n #   Column      Non-Null Count  Dtype \n---  ------      --------------  ----- \n 0   itemID      78334 non-null  int64 \n 1   title       78334 non-null  object\n 2   author      75087 non-null  object\n 3   publisher   78325 non-null  object\n 4   main topic  78075 non-null  object\n 5   subtopics   78334 non-null  object\ndtypes: int64(1), object(5)\nmemory usage: 3.6+ MB\n"
     ]
    }
   ],
   "source": [
    "items_.info()"
   ]
  },
  {
   "cell_type": "code",
   "execution_count": 8,
   "metadata": {},
   "outputs": [
    {
     "output_type": "stream",
     "name": "stdout",
     "text": [
      "<class 'pandas.core.frame.DataFrame'>\nRangeIndex: 76489 entries, 0 to 76488\nData columns (total 6 columns):\n #   Column      Non-Null Count  Dtype \n---  ------      --------------  ----- \n 0   itemID      76489 non-null  int64 \n 1   title       76489 non-null  object\n 2   author      73262 non-null  object\n 3   publisher   76480 non-null  object\n 4   main topic  76232 non-null  object\n 5   subtopics   76489 non-null  object\ndtypes: int64(1), object(5)\nmemory usage: 3.5+ MB\n"
     ]
    }
   ],
   "source": [
    "items_deduplicated.info()"
   ]
  },
  {
   "cell_type": "code",
   "execution_count": 9,
   "metadata": {},
   "outputs": [
    {
     "output_type": "execute_result",
     "data": {
      "text/plain": [
       "   itemID                                              title  \\\n",
       "0       0  Cuadernos de actividades para niños de 5 a 6 a...   \n",
       "1       1          Kinderklassiker-Soundbuch - Don Quichotte   \n",
       "2       2  Ich kann zeichnen! Pferde und Ponys - Schritt ...   \n",
       "3       3                                The Chocolate Touch   \n",
       "4       4                               Thinandbeautiful.com   \n",
       "5       5                                      Herr der Welt   \n",
       "6       6               Honor Harrington: Schmiede des Zorns   \n",
       "7       7               Mao und das Vermächtnis von Atlantis   \n",
       "8       8                                      Mi Buen Perro   \n",
       "9       9                                  In grauer Vorzeit   \n",
       "\n",
       "                         author             publisher main topic  subtopics  \n",
       "0               Garcia Santiago  Fichas de preescolar        YBG         []  \n",
       "1  Miguel de Cervantes Saavedra           Yo Yo Books        YBC         []  \n",
       "2                    Fiona Watt        Usborne Verlag       YBGC      [YBL]  \n",
       "3         Patrick Skene Catling         HARPERCOLLINS        YFQ      [YFJ]  \n",
       "4                    Liane Shaw        ORCA BOOK PUBL        YXA       [YF]  \n",
       "5                   Jules Verne  TP Verone Publishing         FB         []  \n",
       "6                   David Weber                 Lübbe        FLS  [FLP,FLQ]  \n",
       "7                   Mario Klotz                epubli         FM         []  \n",
       "8                Katrina Streza              XIST PUB       YBLJ  [YFP,YFQ]  \n",
       "9                 Lucian Caligo       Books on Demand         FL         []  "
      ],
      "text/html": "<div>\n<style scoped>\n    .dataframe tbody tr th:only-of-type {\n        vertical-align: middle;\n    }\n\n    .dataframe tbody tr th {\n        vertical-align: top;\n    }\n\n    .dataframe thead th {\n        text-align: right;\n    }\n</style>\n<table border=\"1\" class=\"dataframe\">\n  <thead>\n    <tr style=\"text-align: right;\">\n      <th></th>\n      <th>itemID</th>\n      <th>title</th>\n      <th>author</th>\n      <th>publisher</th>\n      <th>main topic</th>\n      <th>subtopics</th>\n    </tr>\n  </thead>\n  <tbody>\n    <tr>\n      <th>0</th>\n      <td>0</td>\n      <td>Cuadernos de actividades para niños de 5 a 6 a...</td>\n      <td>Garcia Santiago</td>\n      <td>Fichas de preescolar</td>\n      <td>YBG</td>\n      <td>[]</td>\n    </tr>\n    <tr>\n      <th>1</th>\n      <td>1</td>\n      <td>Kinderklassiker-Soundbuch - Don Quichotte</td>\n      <td>Miguel de Cervantes Saavedra</td>\n      <td>Yo Yo Books</td>\n      <td>YBC</td>\n      <td>[]</td>\n    </tr>\n    <tr>\n      <th>2</th>\n      <td>2</td>\n      <td>Ich kann zeichnen! Pferde und Ponys - Schritt ...</td>\n      <td>Fiona Watt</td>\n      <td>Usborne Verlag</td>\n      <td>YBGC</td>\n      <td>[YBL]</td>\n    </tr>\n    <tr>\n      <th>3</th>\n      <td>3</td>\n      <td>The Chocolate Touch</td>\n      <td>Patrick Skene Catling</td>\n      <td>HARPERCOLLINS</td>\n      <td>YFQ</td>\n      <td>[YFJ]</td>\n    </tr>\n    <tr>\n      <th>4</th>\n      <td>4</td>\n      <td>Thinandbeautiful.com</td>\n      <td>Liane Shaw</td>\n      <td>ORCA BOOK PUBL</td>\n      <td>YXA</td>\n      <td>[YF]</td>\n    </tr>\n    <tr>\n      <th>5</th>\n      <td>5</td>\n      <td>Herr der Welt</td>\n      <td>Jules Verne</td>\n      <td>TP Verone Publishing</td>\n      <td>FB</td>\n      <td>[]</td>\n    </tr>\n    <tr>\n      <th>6</th>\n      <td>6</td>\n      <td>Honor Harrington: Schmiede des Zorns</td>\n      <td>David Weber</td>\n      <td>Lübbe</td>\n      <td>FLS</td>\n      <td>[FLP,FLQ]</td>\n    </tr>\n    <tr>\n      <th>7</th>\n      <td>7</td>\n      <td>Mao und das Vermächtnis von Atlantis</td>\n      <td>Mario Klotz</td>\n      <td>epubli</td>\n      <td>FM</td>\n      <td>[]</td>\n    </tr>\n    <tr>\n      <th>8</th>\n      <td>8</td>\n      <td>Mi Buen Perro</td>\n      <td>Katrina Streza</td>\n      <td>XIST PUB</td>\n      <td>YBLJ</td>\n      <td>[YFP,YFQ]</td>\n    </tr>\n    <tr>\n      <th>9</th>\n      <td>9</td>\n      <td>In grauer Vorzeit</td>\n      <td>Lucian Caligo</td>\n      <td>Books on Demand</td>\n      <td>FL</td>\n      <td>[]</td>\n    </tr>\n  </tbody>\n</table>\n</div>"
     },
     "metadata": {},
     "execution_count": 9
    }
   ],
   "source": [
    "items_deduplicated.head(10)"
   ]
  },
  {
   "cell_type": "code",
   "execution_count": 10,
   "metadata": {},
   "outputs": [],
   "source": [
    "test_title = 'Cuadernos de actividades para - niños de 5 a 6        años (Rodea con un círculo la hora que muestra el reloj'"
   ]
  },
  {
   "cell_type": "code",
   "execution_count": 11,
   "metadata": {},
   "outputs": [],
   "source": [
    "def cleanse_string(string_ : str):\n",
    "    substrings = string_.split()\n",
    "    substrings[:] = [s.lower() for s in substrings]\n",
    "    for sc in special_chars:\n",
    "        substrings[:] = [s.replace(sc, '') for s in substrings]\n",
    "    for key, val in replace_chars.items():\n",
    "        substrings[:] = [s.replace(key, val) for s in substrings]\n",
    "    substrings = list(filter(None, substrings))\n",
    "    return \" \".join(substrings)"
   ]
  },
  {
   "cell_type": "code",
   "execution_count": 12,
   "metadata": {},
   "outputs": [
    {
     "output_type": "stream",
     "name": "stdout",
     "text": [
      "Cuadernos de actividades para - niños de 5 a 6        años (Rodea con un círculo la hora que muestra el reloj\ncuadernos de actividades para ninos de 5 a 6 anos rodea con un circulo la hora que muestra el reloj\n"
     ]
    }
   ],
   "source": [
    "print(test_title)\n",
    "print(cleanse_string(test_title))"
   ]
  },
  {
   "source": [
    "### cleansing items_deduplicated.csv"
   ],
   "cell_type": "markdown",
   "metadata": {}
  },
  {
   "cell_type": "code",
   "execution_count": 16,
   "metadata": {},
   "outputs": [],
   "source": [
    "for i in items_deduplicated.index:\n",
    "    title = str(items_deduplicated.at[i, 'title'])\n",
    "    cleansed_title = cleanse_string(title)\n",
    "    items_deduplicated.at[i, 'title'] = cleansed_title"
   ]
  },
  {
   "cell_type": "code",
   "execution_count": 18,
   "metadata": {},
   "outputs": [],
   "source": [
    "for j in items_deduplicated.index:\n",
    "    author = str(items_deduplicated.at[j, 'author'])\n",
    "    cleansed_author = cleanse_string(author)\n",
    "    items_deduplicated.at[j, 'author'] = cleansed_author"
   ]
  },
  {
   "cell_type": "code",
   "execution_count": 20,
   "metadata": {},
   "outputs": [],
   "source": [
    "for k in items_deduplicated.index:\n",
    "    publisher = str(items_deduplicated.at[k, 'publisher'])\n",
    "    cleansed_publisher = cleanse_string(publisher)\n",
    "    items_deduplicated.at[k, 'publisher'] = cleansed_publisher"
   ]
  },
  {
   "cell_type": "code",
   "execution_count": 21,
   "metadata": {},
   "outputs": [
    {
     "output_type": "execute_result",
     "data": {
      "text/plain": [
       "   itemID                                              title  \\\n",
       "0       0  cuadernos de actividades para ninos de 5 a 6 a...   \n",
       "1       1             kinderklassikersoundbuch don quichotte   \n",
       "2       2  ich kann zeichnen pferde und ponys schritt für...   \n",
       "3       3                                the chocolate touch   \n",
       "4       4                                thinandbeautifulcom   \n",
       "5       5                                      herr der welt   \n",
       "6       6                honor harrington schmiede des zorns   \n",
       "7       7               mao und das vermächtnis von atlantis   \n",
       "8       8                                      mi buen perro   \n",
       "9       9                                  in grauer vorzeit   \n",
       "\n",
       "                         author             publisher main topic  subtopics  \n",
       "0               garcia santiago  fichas de preescolar        YBG         []  \n",
       "1  miguel de cervantes saavedra           yo yo books        YBC         []  \n",
       "2                    fiona watt        usborne verlag       YBGC      [YBL]  \n",
       "3         patrick skene catling         harpercollins        YFQ      [YFJ]  \n",
       "4                    liane shaw        orca book publ        YXA       [YF]  \n",
       "5                   jules verne  tp verone publishing         FB         []  \n",
       "6                   david weber                 lübbe        FLS  [FLP,FLQ]  \n",
       "7                   mario klotz                epubli         FM         []  \n",
       "8                katrina streza              xist pub       YBLJ  [YFP,YFQ]  \n",
       "9                 lucian caligo       books on demand         FL         []  "
      ],
      "text/html": "<div>\n<style scoped>\n    .dataframe tbody tr th:only-of-type {\n        vertical-align: middle;\n    }\n\n    .dataframe tbody tr th {\n        vertical-align: top;\n    }\n\n    .dataframe thead th {\n        text-align: right;\n    }\n</style>\n<table border=\"1\" class=\"dataframe\">\n  <thead>\n    <tr style=\"text-align: right;\">\n      <th></th>\n      <th>itemID</th>\n      <th>title</th>\n      <th>author</th>\n      <th>publisher</th>\n      <th>main topic</th>\n      <th>subtopics</th>\n    </tr>\n  </thead>\n  <tbody>\n    <tr>\n      <th>0</th>\n      <td>0</td>\n      <td>cuadernos de actividades para ninos de 5 a 6 a...</td>\n      <td>garcia santiago</td>\n      <td>fichas de preescolar</td>\n      <td>YBG</td>\n      <td>[]</td>\n    </tr>\n    <tr>\n      <th>1</th>\n      <td>1</td>\n      <td>kinderklassikersoundbuch don quichotte</td>\n      <td>miguel de cervantes saavedra</td>\n      <td>yo yo books</td>\n      <td>YBC</td>\n      <td>[]</td>\n    </tr>\n    <tr>\n      <th>2</th>\n      <td>2</td>\n      <td>ich kann zeichnen pferde und ponys schritt für...</td>\n      <td>fiona watt</td>\n      <td>usborne verlag</td>\n      <td>YBGC</td>\n      <td>[YBL]</td>\n    </tr>\n    <tr>\n      <th>3</th>\n      <td>3</td>\n      <td>the chocolate touch</td>\n      <td>patrick skene catling</td>\n      <td>harpercollins</td>\n      <td>YFQ</td>\n      <td>[YFJ]</td>\n    </tr>\n    <tr>\n      <th>4</th>\n      <td>4</td>\n      <td>thinandbeautifulcom</td>\n      <td>liane shaw</td>\n      <td>orca book publ</td>\n      <td>YXA</td>\n      <td>[YF]</td>\n    </tr>\n    <tr>\n      <th>5</th>\n      <td>5</td>\n      <td>herr der welt</td>\n      <td>jules verne</td>\n      <td>tp verone publishing</td>\n      <td>FB</td>\n      <td>[]</td>\n    </tr>\n    <tr>\n      <th>6</th>\n      <td>6</td>\n      <td>honor harrington schmiede des zorns</td>\n      <td>david weber</td>\n      <td>lübbe</td>\n      <td>FLS</td>\n      <td>[FLP,FLQ]</td>\n    </tr>\n    <tr>\n      <th>7</th>\n      <td>7</td>\n      <td>mao und das vermächtnis von atlantis</td>\n      <td>mario klotz</td>\n      <td>epubli</td>\n      <td>FM</td>\n      <td>[]</td>\n    </tr>\n    <tr>\n      <th>8</th>\n      <td>8</td>\n      <td>mi buen perro</td>\n      <td>katrina streza</td>\n      <td>xist pub</td>\n      <td>YBLJ</td>\n      <td>[YFP,YFQ]</td>\n    </tr>\n    <tr>\n      <th>9</th>\n      <td>9</td>\n      <td>in grauer vorzeit</td>\n      <td>lucian caligo</td>\n      <td>books on demand</td>\n      <td>FL</td>\n      <td>[]</td>\n    </tr>\n  </tbody>\n</table>\n</div>"
     },
     "metadata": {},
     "execution_count": 21
    }
   ],
   "source": [
    "items_deduplicated.head(10)"
   ]
  },
  {
   "cell_type": "code",
   "execution_count": 22,
   "metadata": {},
   "outputs": [
    {
     "output_type": "stream",
     "name": "stdout",
     "text": [
      "<class 'pandas.core.frame.DataFrame'>\nRangeIndex: 76489 entries, 0 to 76488\nData columns (total 6 columns):\n #   Column      Non-Null Count  Dtype \n---  ------      --------------  ----- \n 0   itemID      76489 non-null  int64 \n 1   title       76489 non-null  object\n 2   author      76489 non-null  object\n 3   publisher   76489 non-null  object\n 4   main topic  76232 non-null  object\n 5   subtopics   76489 non-null  object\ndtypes: int64(1), object(5)\nmemory usage: 3.5+ MB\n"
     ]
    }
   ],
   "source": [
    "items_deduplicated.info()"
   ]
  },
  {
   "cell_type": "code",
   "execution_count": 23,
   "metadata": {},
   "outputs": [
    {
     "output_type": "execute_result",
     "data": {
      "text/plain": [
       "76489"
      ]
     },
     "metadata": {},
     "execution_count": 23
    }
   ],
   "source": [
    "len(items_deduplicated)"
   ]
  },
  {
   "cell_type": "code",
   "execution_count": 55,
   "metadata": {},
   "outputs": [],
   "source": [
    "topics = items_deduplicated['main topic'].tolist()"
   ]
  },
  {
   "cell_type": "code",
   "execution_count": 56,
   "metadata": {},
   "outputs": [
    {
     "output_type": "execute_result",
     "data": {
      "text/plain": [
       "'YBG'"
      ]
     },
     "metadata": {},
     "execution_count": 56
    }
   ],
   "source": [
    "topics[0]"
   ]
  },
  {
   "cell_type": "code",
   "execution_count": 57,
   "metadata": {},
   "outputs": [],
   "source": [
    "chars_ = []"
   ]
  },
  {
   "cell_type": "code",
   "execution_count": 58,
   "metadata": {},
   "outputs": [],
   "source": [
    "for topic in topics:\n",
    "    for char in str(topic).lower():\n",
    "        chars_.append(char)\n",
    "    chars_ = list(set(chars_))"
   ]
  },
  {
   "cell_type": "code",
   "execution_count": 53,
   "metadata": {},
   "outputs": [
    {
     "output_type": "execute_result",
     "data": {
      "text/plain": [
       "[',',\n",
       " '-',\n",
       " '1',\n",
       " '2',\n",
       " '3',\n",
       " '4',\n",
       " '5',\n",
       " '6',\n",
       " '7',\n",
       " '8',\n",
       " '9',\n",
       " '[',\n",
       " ']',\n",
       " 'a',\n",
       " 'b',\n",
       " 'c',\n",
       " 'd',\n",
       " 'e',\n",
       " 'f',\n",
       " 'g',\n",
       " 'h',\n",
       " 'i',\n",
       " 'j',\n",
       " 'k',\n",
       " 'l',\n",
       " 'm',\n",
       " 'n',\n",
       " 'o',\n",
       " 'p',\n",
       " 'q',\n",
       " 'r',\n",
       " 's',\n",
       " 't',\n",
       " 'u',\n",
       " 'v',\n",
       " 'w',\n",
       " 'x',\n",
       " 'y',\n",
       " 'z']"
      ]
     },
     "metadata": {},
     "execution_count": 53
    }
   ],
   "source": [
    "sorted(chars_)"
   ]
  },
  {
   "cell_type": "code",
   "execution_count": 80,
   "metadata": {},
   "outputs": [
    {
     "output_type": "execute_result",
     "data": {
      "text/plain": [
       "    itemID                                              title  \\\n",
       "0        0  cuadernos de actividades para ninos de 5 a 6 a...   \n",
       "1        1             kinderklassikersoundbuch don quichotte   \n",
       "2        2  ich kann zeichnen pferde und ponys schritt für...   \n",
       "3        3                                the chocolate touch   \n",
       "4        4                                thinandbeautifulcom   \n",
       "5        5                                      herr der welt   \n",
       "6        6                honor harrington schmiede des zorns   \n",
       "7        7               mao und das vermächtnis von atlantis   \n",
       "8        8                                      mi buen perro   \n",
       "9        9                                  in grauer vorzeit   \n",
       "10      10                 the adventures of huckleberry finn   \n",
       "11      11              stahlzeit 01 schicksalsschlacht kursk   \n",
       "12      12                                       breathtaking   \n",
       "13      13                                              bloom   \n",
       "14      14                        a great and terrible beauty   \n",
       "15      15          geronimo stilton 30 mouse island marathon   \n",
       "16      16     magical girl raising project vol 6 light novel   \n",
       "17      17                               zu gut für die tonne   \n",
       "18      18                                 das gauklermärchen   \n",
       "19      19                                        metrognomes   \n",
       "\n",
       "                          author                          publisher  \\\n",
       "0                garcia santiago               fichas de preescolar   \n",
       "1   miguel de cervantes saavedra                        yo yo books   \n",
       "2                     fiona watt                     usborne verlag   \n",
       "3          patrick skene catling                      harpercollins   \n",
       "4                     liane shaw                     orca book publ   \n",
       "5                    jules verne               tp verone publishing   \n",
       "6                    david weber                              lübbe   \n",
       "7                    mario klotz                             epubli   \n",
       "8                 katrina streza                           xist pub   \n",
       "9                  lucian caligo                    books on demand   \n",
       "10                    mark twain  penguin random house childrens uk   \n",
       "11                      tom zola                 hjb verlag shop kg   \n",
       "12           reva ryann thompson                            xlibris   \n",
       "13                nicola skinner           harpercollins publishers   \n",
       "14                    libba bray                       delacorte pr   \n",
       "15              geronimo stilton                      scholastic us   \n",
       "16                   asari endou               little brown company   \n",
       "17                           nan          dorling kindersley verlag   \n",
       "18                  michael ende                         hockebooks   \n",
       "19          glenn slade jr clark                      clark ink llc   \n",
       "\n",
       "   main topic                                          subtopics  \n",
       "0         ybg                                                     \n",
       "1         ybc                                                     \n",
       "2        ybgc                                                ybl  \n",
       "3         yfq                                                yfj  \n",
       "4         yxa                                                 yf  \n",
       "5          fb                                                     \n",
       "6         fls                                            flp,flq  \n",
       "7          fm                                                     \n",
       "8        yblj                                            yfp,yfq  \n",
       "9          fl                                                     \n",
       "10        yfa                                                5ak  \n",
       "11         fl                                                     \n",
       "12         fm                                                     \n",
       "13        yfh                                         1ddu,3mrbf  \n",
       "14        yfh                                                yft  \n",
       "15        yfc                                                yfp  \n",
       "16         yf                                                     \n",
       "17       rnkh  5af,5ag,4ca,rnh,rnpd,rnpg,rnu,wft,ybl,yng,ynnb...  \n",
       "18        fmm                                                fmm  \n",
       "19         fm                                                     "
      ],
      "text/html": "<div>\n<style scoped>\n    .dataframe tbody tr th:only-of-type {\n        vertical-align: middle;\n    }\n\n    .dataframe tbody tr th {\n        vertical-align: top;\n    }\n\n    .dataframe thead th {\n        text-align: right;\n    }\n</style>\n<table border=\"1\" class=\"dataframe\">\n  <thead>\n    <tr style=\"text-align: right;\">\n      <th></th>\n      <th>itemID</th>\n      <th>title</th>\n      <th>author</th>\n      <th>publisher</th>\n      <th>main topic</th>\n      <th>subtopics</th>\n    </tr>\n  </thead>\n  <tbody>\n    <tr>\n      <th>0</th>\n      <td>0</td>\n      <td>cuadernos de actividades para ninos de 5 a 6 a...</td>\n      <td>garcia santiago</td>\n      <td>fichas de preescolar</td>\n      <td>ybg</td>\n      <td></td>\n    </tr>\n    <tr>\n      <th>1</th>\n      <td>1</td>\n      <td>kinderklassikersoundbuch don quichotte</td>\n      <td>miguel de cervantes saavedra</td>\n      <td>yo yo books</td>\n      <td>ybc</td>\n      <td></td>\n    </tr>\n    <tr>\n      <th>2</th>\n      <td>2</td>\n      <td>ich kann zeichnen pferde und ponys schritt für...</td>\n      <td>fiona watt</td>\n      <td>usborne verlag</td>\n      <td>ybgc</td>\n      <td>ybl</td>\n    </tr>\n    <tr>\n      <th>3</th>\n      <td>3</td>\n      <td>the chocolate touch</td>\n      <td>patrick skene catling</td>\n      <td>harpercollins</td>\n      <td>yfq</td>\n      <td>yfj</td>\n    </tr>\n    <tr>\n      <th>4</th>\n      <td>4</td>\n      <td>thinandbeautifulcom</td>\n      <td>liane shaw</td>\n      <td>orca book publ</td>\n      <td>yxa</td>\n      <td>yf</td>\n    </tr>\n    <tr>\n      <th>5</th>\n      <td>5</td>\n      <td>herr der welt</td>\n      <td>jules verne</td>\n      <td>tp verone publishing</td>\n      <td>fb</td>\n      <td></td>\n    </tr>\n    <tr>\n      <th>6</th>\n      <td>6</td>\n      <td>honor harrington schmiede des zorns</td>\n      <td>david weber</td>\n      <td>lübbe</td>\n      <td>fls</td>\n      <td>flp,flq</td>\n    </tr>\n    <tr>\n      <th>7</th>\n      <td>7</td>\n      <td>mao und das vermächtnis von atlantis</td>\n      <td>mario klotz</td>\n      <td>epubli</td>\n      <td>fm</td>\n      <td></td>\n    </tr>\n    <tr>\n      <th>8</th>\n      <td>8</td>\n      <td>mi buen perro</td>\n      <td>katrina streza</td>\n      <td>xist pub</td>\n      <td>yblj</td>\n      <td>yfp,yfq</td>\n    </tr>\n    <tr>\n      <th>9</th>\n      <td>9</td>\n      <td>in grauer vorzeit</td>\n      <td>lucian caligo</td>\n      <td>books on demand</td>\n      <td>fl</td>\n      <td></td>\n    </tr>\n    <tr>\n      <th>10</th>\n      <td>10</td>\n      <td>the adventures of huckleberry finn</td>\n      <td>mark twain</td>\n      <td>penguin random house childrens uk</td>\n      <td>yfa</td>\n      <td>5ak</td>\n    </tr>\n    <tr>\n      <th>11</th>\n      <td>11</td>\n      <td>stahlzeit 01 schicksalsschlacht kursk</td>\n      <td>tom zola</td>\n      <td>hjb verlag shop kg</td>\n      <td>fl</td>\n      <td></td>\n    </tr>\n    <tr>\n      <th>12</th>\n      <td>12</td>\n      <td>breathtaking</td>\n      <td>reva ryann thompson</td>\n      <td>xlibris</td>\n      <td>fm</td>\n      <td></td>\n    </tr>\n    <tr>\n      <th>13</th>\n      <td>13</td>\n      <td>bloom</td>\n      <td>nicola skinner</td>\n      <td>harpercollins publishers</td>\n      <td>yfh</td>\n      <td>1ddu,3mrbf</td>\n    </tr>\n    <tr>\n      <th>14</th>\n      <td>14</td>\n      <td>a great and terrible beauty</td>\n      <td>libba bray</td>\n      <td>delacorte pr</td>\n      <td>yfh</td>\n      <td>yft</td>\n    </tr>\n    <tr>\n      <th>15</th>\n      <td>15</td>\n      <td>geronimo stilton 30 mouse island marathon</td>\n      <td>geronimo stilton</td>\n      <td>scholastic us</td>\n      <td>yfc</td>\n      <td>yfp</td>\n    </tr>\n    <tr>\n      <th>16</th>\n      <td>16</td>\n      <td>magical girl raising project vol 6 light novel</td>\n      <td>asari endou</td>\n      <td>little brown company</td>\n      <td>yf</td>\n      <td></td>\n    </tr>\n    <tr>\n      <th>17</th>\n      <td>17</td>\n      <td>zu gut für die tonne</td>\n      <td>nan</td>\n      <td>dorling kindersley verlag</td>\n      <td>rnkh</td>\n      <td>5af,5ag,4ca,rnh,rnpd,rnpg,rnu,wft,ybl,yng,ynnb...</td>\n    </tr>\n    <tr>\n      <th>18</th>\n      <td>18</td>\n      <td>das gauklermärchen</td>\n      <td>michael ende</td>\n      <td>hockebooks</td>\n      <td>fmm</td>\n      <td>fmm</td>\n    </tr>\n    <tr>\n      <th>19</th>\n      <td>19</td>\n      <td>metrognomes</td>\n      <td>glenn slade jr clark</td>\n      <td>clark ink llc</td>\n      <td>fm</td>\n      <td></td>\n    </tr>\n  </tbody>\n</table>\n</div>"
     },
     "metadata": {},
     "execution_count": 80
    }
   ],
   "source": [
    "items_deduplicated.head(20)"
   ]
  },
  {
   "cell_type": "code",
   "execution_count": 74,
   "metadata": {},
   "outputs": [],
   "source": [
    "for i in items_deduplicated.index:\n",
    "    topic=str(items_deduplicated.at[i, 'main topic'])\n",
    "    subtopics_=str(items_deduplicated.at[i, 'subtopics'])\n",
    "    cleansed_topic = topic.lower().replace('[','').replace(']','')\n",
    "    cleansed_subtopics_ = subtopics_.lower().replace('[','').replace(']','')\n",
    "    #print(cleansed_topic)\n",
    "    #print(cleansed_subtopics_)\n",
    "    items_deduplicated.at[i, 'main topic'] = cleansed_topic\n",
    "    items_deduplicated.at[i, 'subtopics'] = cleansed_subtopics_"
   ]
  },
  {
   "cell_type": "code",
   "execution_count": 81,
   "metadata": {},
   "outputs": [
    {
     "output_type": "execute_result",
     "data": {
      "text/plain": [
       "76489"
      ]
     },
     "metadata": {},
     "execution_count": 81
    }
   ],
   "source": [
    "len(items_deduplicated)"
   ]
  },
  {
   "cell_type": "code",
   "execution_count": 82,
   "metadata": {},
   "outputs": [],
   "source": [
    "items_deduplicated.to_csv('items_deduplicated_cleansed.csv',sep='|',encoding='utf-8',index=False)"
   ]
  },
  {
   "source": [
    "### cleansing items.csv"
   ],
   "cell_type": "markdown",
   "metadata": {}
  },
  {
   "cell_type": "code",
   "execution_count": 85,
   "metadata": {},
   "outputs": [],
   "source": [
    "for i in items_.index:\n",
    "    title = str(items_.at[i, 'title'])\n",
    "    cleansed_title = cleanse_string(title)\n",
    "    items_.at[i, 'title'] = cleansed_title"
   ]
  },
  {
   "cell_type": "code",
   "execution_count": 91,
   "metadata": {},
   "outputs": [],
   "source": [
    "for j in items_.index:\n",
    "    author = str(items_.at[j, 'author'])\n",
    "    cleansed_author = cleanse_string(author)\n",
    "    items_.at[j, 'author'] = cleansed_author"
   ]
  },
  {
   "cell_type": "code",
   "execution_count": 93,
   "metadata": {},
   "outputs": [],
   "source": [
    "for k in items_.index:\n",
    "    publisher = str(items_.at[k, 'publisher'])\n",
    "    cleansed_publisher = cleanse_string(publisher)\n",
    "    items_.at[k, 'publisher'] = cleansed_publisher"
   ]
  },
  {
   "cell_type": "code",
   "execution_count": 87,
   "metadata": {},
   "outputs": [],
   "source": [
    "items_=items_.sort_values(by=['itemID'])"
   ]
  },
  {
   "cell_type": "code",
   "execution_count": 96,
   "metadata": {},
   "outputs": [
    {
     "output_type": "execute_result",
     "data": {
      "text/plain": [
       "       itemID                                              title  \\\n",
       "58507       0  cuadernos de actividades para ninos de 5 a 6 a...   \n",
       "4706        1             kinderklassikersoundbuch don quichotte   \n",
       "1784        2  ich kann zeichnen pferde und ponys schritt für...   \n",
       "74307       3                                the chocolate touch   \n",
       "77648       4                                thinandbeautifulcom   \n",
       "41931       5                                      herr der welt   \n",
       "10572       6                honor harrington schmiede des zorns   \n",
       "9046        7               mao und das vermächtnis von atlantis   \n",
       "38795       8                                      mi buen perro   \n",
       "37877       9                                  in grauer vorzeit   \n",
       "\n",
       "                             author             publisher main topic subtopics  \n",
       "58507               garcia santiago  fichas de preescolar        ybg            \n",
       "4706   miguel de cervantes saavedra           yo yo books        ybc            \n",
       "1784                     fiona watt        usborne verlag       ybgc       ybl  \n",
       "74307         patrick skene catling         harpercollins        yfq       yfj  \n",
       "77648                    liane shaw        orca book publ        yxa        yf  \n",
       "41931                   jules verne  tp verone publishing         fb            \n",
       "10572                   david weber                 lübbe        fls   flp,flq  \n",
       "9046                    mario klotz                epubli         fm            \n",
       "38795                katrina streza              xist pub       yblj   yfp,yfq  \n",
       "37877                 lucian caligo       books on demand         fl            "
      ],
      "text/html": "<div>\n<style scoped>\n    .dataframe tbody tr th:only-of-type {\n        vertical-align: middle;\n    }\n\n    .dataframe tbody tr th {\n        vertical-align: top;\n    }\n\n    .dataframe thead th {\n        text-align: right;\n    }\n</style>\n<table border=\"1\" class=\"dataframe\">\n  <thead>\n    <tr style=\"text-align: right;\">\n      <th></th>\n      <th>itemID</th>\n      <th>title</th>\n      <th>author</th>\n      <th>publisher</th>\n      <th>main topic</th>\n      <th>subtopics</th>\n    </tr>\n  </thead>\n  <tbody>\n    <tr>\n      <th>58507</th>\n      <td>0</td>\n      <td>cuadernos de actividades para ninos de 5 a 6 a...</td>\n      <td>garcia santiago</td>\n      <td>fichas de preescolar</td>\n      <td>ybg</td>\n      <td></td>\n    </tr>\n    <tr>\n      <th>4706</th>\n      <td>1</td>\n      <td>kinderklassikersoundbuch don quichotte</td>\n      <td>miguel de cervantes saavedra</td>\n      <td>yo yo books</td>\n      <td>ybc</td>\n      <td></td>\n    </tr>\n    <tr>\n      <th>1784</th>\n      <td>2</td>\n      <td>ich kann zeichnen pferde und ponys schritt für...</td>\n      <td>fiona watt</td>\n      <td>usborne verlag</td>\n      <td>ybgc</td>\n      <td>ybl</td>\n    </tr>\n    <tr>\n      <th>74307</th>\n      <td>3</td>\n      <td>the chocolate touch</td>\n      <td>patrick skene catling</td>\n      <td>harpercollins</td>\n      <td>yfq</td>\n      <td>yfj</td>\n    </tr>\n    <tr>\n      <th>77648</th>\n      <td>4</td>\n      <td>thinandbeautifulcom</td>\n      <td>liane shaw</td>\n      <td>orca book publ</td>\n      <td>yxa</td>\n      <td>yf</td>\n    </tr>\n    <tr>\n      <th>41931</th>\n      <td>5</td>\n      <td>herr der welt</td>\n      <td>jules verne</td>\n      <td>tp verone publishing</td>\n      <td>fb</td>\n      <td></td>\n    </tr>\n    <tr>\n      <th>10572</th>\n      <td>6</td>\n      <td>honor harrington schmiede des zorns</td>\n      <td>david weber</td>\n      <td>lübbe</td>\n      <td>fls</td>\n      <td>flp,flq</td>\n    </tr>\n    <tr>\n      <th>9046</th>\n      <td>7</td>\n      <td>mao und das vermächtnis von atlantis</td>\n      <td>mario klotz</td>\n      <td>epubli</td>\n      <td>fm</td>\n      <td></td>\n    </tr>\n    <tr>\n      <th>38795</th>\n      <td>8</td>\n      <td>mi buen perro</td>\n      <td>katrina streza</td>\n      <td>xist pub</td>\n      <td>yblj</td>\n      <td>yfp,yfq</td>\n    </tr>\n    <tr>\n      <th>37877</th>\n      <td>9</td>\n      <td>in grauer vorzeit</td>\n      <td>lucian caligo</td>\n      <td>books on demand</td>\n      <td>fl</td>\n      <td></td>\n    </tr>\n  </tbody>\n</table>\n</div>"
     },
     "metadata": {},
     "execution_count": 96
    }
   ],
   "source": [
    "items_.head(10)"
   ]
  },
  {
   "cell_type": "code",
   "execution_count": 95,
   "metadata": {},
   "outputs": [],
   "source": [
    "for i in items_.index:\n",
    "    topic=str(items_.at[i, 'main topic'])\n",
    "    subtopics_=str(items_.at[i, 'subtopics'])\n",
    "    cleansed_topic = topic.lower().replace('[','').replace(']','')\n",
    "    cleansed_subtopics_ = subtopics_.lower().replace('[','').replace(']','')\n",
    "    #print(cleansed_topic)\n",
    "    #print(cleansed_subtopics_)\n",
    "    items_.at[i, 'main topic'] = cleansed_topic\n",
    "    items_.at[i, 'subtopics'] = cleansed_subtopics_"
   ]
  },
  {
   "cell_type": "code",
   "execution_count": 90,
   "metadata": {},
   "outputs": [
    {
     "output_type": "stream",
     "name": "stdout",
     "text": [
      "<class 'pandas.core.frame.DataFrame'>\nInt64Index: 78334 entries, 58507 to 28552\nData columns (total 6 columns):\n #   Column      Non-Null Count  Dtype \n---  ------      --------------  ----- \n 0   itemID      78334 non-null  int64 \n 1   title       78334 non-null  object\n 2   author      75087 non-null  object\n 3   publisher   78325 non-null  object\n 4   main topic  78075 non-null  object\n 5   subtopics   78334 non-null  object\ndtypes: int64(1), object(5)\nmemory usage: 4.2+ MB\n"
     ]
    }
   ],
   "source": [
    "items_.info()"
   ]
  },
  {
   "cell_type": "code",
   "execution_count": 97,
   "metadata": {},
   "outputs": [
    {
     "output_type": "execute_result",
     "data": {
      "text/plain": [
       "78334"
      ]
     },
     "metadata": {},
     "execution_count": 97
    }
   ],
   "source": [
    "len(items_)"
   ]
  },
  {
   "cell_type": "code",
   "execution_count": 98,
   "metadata": {},
   "outputs": [],
   "source": [
    "items_.to_csv('items_cleansed.csv',sep='|',encoding='utf-8',index=False)"
   ]
  }
 ]
}